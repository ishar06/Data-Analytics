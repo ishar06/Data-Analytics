{
 "cells": [
  {
   "cell_type": "code",
   "execution_count": 2,
   "id": "f0c2f292-c38d-44b5-bdee-82fa6b7765d5",
   "metadata": {},
   "outputs": [],
   "source": [
    "import numpy as np\n",
    "import pandas as pd"
   ]
  },
  {
   "cell_type": "code",
   "execution_count": 8,
   "id": "71a8e025-94a3-443c-9412-af5b49080510",
   "metadata": {},
   "outputs": [
    {
     "name": "stdout",
     "output_type": "stream",
     "text": [
      "['a' 'b' 'c' 'nan']\n",
      "<U32\n"
     ]
    }
   ],
   "source": [
    "s1 = np.array(['a','b','c',np.nan])\n",
    "print(s1)\n",
    "print(s1.dtype) #String"
   ]
  },
  {
   "cell_type": "code",
   "execution_count": 12,
   "id": "c27c18b6-ee16-4a7e-a23f-d399cd0af2a6",
   "metadata": {},
   "outputs": [
    {
     "name": "stdout",
     "output_type": "stream",
     "text": [
      "Empty DataFrame\n",
      "Columns: []\n",
      "Index: []\n"
     ]
    }
   ],
   "source": [
    "dFrameEmt = pd.DataFrame()\n",
    "print(dFrameEmt)\n"
   ]
  },
  {
   "cell_type": "code",
   "execution_count": 16,
   "id": "db7f813f-07db-4044-a70e-e85eb89450ff",
   "metadata": {},
   "outputs": [
    {
     "name": "stdout",
     "output_type": "stream",
     "text": [
      "     A    B    C     D\n",
      "0   10   20   30   NaN\n",
      "1  100  200  300   NaN\n",
      "2  -10  -20  -30 -40.0\n"
     ]
    }
   ],
   "source": [
    "array1 = np.array([10,20,30])\n",
    "array2 = np.array([100,200,300])\n",
    "array3 = np.array([-10,-20,-30, -40])\n",
    "dFrame2 = pd.DataFrame([array1, array2, array3], columns=[ 'A', 'B', 'C', 'D'])\n",
    "print(dFrame2)\n"
   ]
  },
  {
   "cell_type": "code",
   "execution_count": 18,
   "id": "6bb4bb6a-4dbb-4131-817b-3c9cf6a13e82",
   "metadata": {},
   "outputs": [
    {
     "name": "stdout",
     "output_type": "stream",
     "text": [
      "    a   b     c\n",
      "0  10  20   NaN\n",
      "1   5  10  20.0\n"
     ]
    }
   ],
   "source": [
    "listDict = [{'a':10, 'b':20}, {'a':5, 'b':10, 'c':20}]\n",
    "dFrame3 = pd.DataFrame(listDict)\n",
    "print(dFrame3)\n"
   ]
  },
  {
   "cell_type": "code",
   "execution_count": 20,
   "id": "533fcecc-d132-4af5-922f-0dbe47433057",
   "metadata": {},
   "outputs": [
    {
     "name": "stdout",
     "output_type": "stream",
     "text": [
      "    State  GArea      VDF\n",
      "0   Assam  78438  2797.00\n",
      "1   Delhi   1483     6.72\n",
      "2  Kerala  38852  1663.00\n"
     ]
    }
   ],
   "source": [
    "dictForest = {'State': ['Assam', 'Delhi', 'Kerala'], 'GArea': [78438, 1483, 38852] ,'VDF' : [2797, 6.72,1663]}\n",
    "dFrame4 = pd.DataFrame(dictForest)\n",
    "print(dFrame4)"
   ]
  },
  {
   "cell_type": "code",
   "execution_count": 22,
   "id": "9c9a6278-b1c1-44ff-ae26-eb24875e04d9",
   "metadata": {},
   "outputs": [
    {
     "name": "stdout",
     "output_type": "stream",
     "text": [
      "    State      VDF  GArea\n",
      "0   Assam  2797.00  78438\n",
      "1   Delhi     6.72   1483\n",
      "2  Kerala  1663.00  38852\n"
     ]
    }
   ],
   "source": [
    "dFrame5 = pd.DataFrame(dictForest, columns = ['State','VDF', 'GArea'])\n",
    "print(dFrame5)"
   ]
  },
  {
   "cell_type": "code",
   "execution_count": 24,
   "id": "2919b4d5-c173-4984-a9ad-08cb126c77b0",
   "metadata": {},
   "outputs": [
    {
     "name": "stdout",
     "output_type": "stream",
     "text": [
      "        a       b       c       d       e     z     y\n",
      "0     1.0     2.0     3.0     4.0     5.0   NaN   NaN\n",
      "1  1000.0  2000.0 -1000.0 -5000.0  1000.0   NaN   NaN\n",
      "2   -10.0     NaN   -50.0     NaN   100.0  10.0  20.0\n"
     ]
    }
   ],
   "source": [
    "seriesA = pd.Series([1,2,3,4,5], index = ['a', 'b', 'c', 'd', 'e'])\n",
    "seriesB = pd.Series ([1000,2000,-1000,-5000,1000], index = ['a', 'b', 'c', 'd', 'e'])\n",
    "seriesC = pd.Series([10,20,-10,-50,100], index = ['z', 'y', 'a', 'c', 'e'])\n",
    "dFrame6 = pd.DataFrame([seriesA, seriesB, seriesC])\n",
    "print(dFrame6)"
   ]
  },
  {
   "cell_type": "code",
   "execution_count": null,
   "id": "fba666cf-7577-4fcf-859b-48e83d5bb10d",
   "metadata": {},
   "outputs": [],
   "source": []
  }
 ],
 "metadata": {
  "kernelspec": {
   "display_name": "Python 3 (ipykernel)",
   "language": "python",
   "name": "python3"
  },
  "language_info": {
   "codemirror_mode": {
    "name": "ipython",
    "version": 3
   },
   "file_extension": ".py",
   "mimetype": "text/x-python",
   "name": "python",
   "nbconvert_exporter": "python",
   "pygments_lexer": "ipython3",
   "version": "3.12.4"
  }
 },
 "nbformat": 4,
 "nbformat_minor": 5
}
