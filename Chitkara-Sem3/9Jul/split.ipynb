{
 "cells": [
  {
   "cell_type": "code",
   "execution_count": 12,
   "id": "745f3b58-94a7-4a10-989d-ebb4f3001c58",
   "metadata": {},
   "outputs": [
    {
     "name": "stdout",
     "output_type": "stream",
     "text": [
      "[[ 0.  1.  2.  3.  4.  5.]\n",
      " [ 6.  7.  8.  9. 10. 11.]\n",
      " [12. 13. 14. 15. 16. 17.]\n",
      " [18. 19. 20. 21. 22. 23.]]\n",
      "[array([[ 0.,  1.,  2.],\n",
      "       [ 6.,  7.,  8.],\n",
      "       [12., 13., 14.],\n",
      "       [18., 19., 20.]]), array([[ 3.,  4.,  5.],\n",
      "       [ 9., 10., 11.],\n",
      "       [15., 16., 17.],\n",
      "       [21., 22., 23.]])]\n",
      "\n",
      "[array([[ 0.,  1.],\n",
      "       [ 6.,  7.],\n",
      "       [12., 13.],\n",
      "       [18., 19.]]), array([[ 2.,  3.],\n",
      "       [ 8.,  9.],\n",
      "       [14., 15.],\n",
      "       [20., 21.]]), array([[ 4.,  5.],\n",
      "       [10., 11.],\n",
      "       [16., 17.],\n",
      "       [22., 23.]])]\n",
      "\n"
     ]
    }
   ],
   "source": [
    "import numpy as np\n",
    "ar_1 = np.arange(24.0).reshape(4, 6)\n",
    "print(ar_1)\n",
    "print(np.hsplit(ar_1, 2), end = \"\\n\\n\")\n",
    "print(np.hsplit(ar_1, 3), end = \"\\n\\n\")"
   ]
  },
  {
   "cell_type": "code",
   "execution_count": 22,
   "id": "2944312e-7f39-4695-a019-2c21fa17e6a2",
   "metadata": {},
   "outputs": [
    {
     "name": "stdout",
     "output_type": "stream",
     "text": [
      "[array([0, 1, 2, 3]), array([4, 5, 6, 7])]\n"
     ]
    }
   ],
   "source": [
    "arr2 = np.arange(8)\n",
    "print(np.split(arr2,2))"
   ]
  },
  {
   "cell_type": "code",
   "execution_count": 24,
   "id": "1d3c6109-d298-4584-b672-64e1909e23ca",
   "metadata": {},
   "outputs": [
    {
     "name": "stdout",
     "output_type": "stream",
     "text": [
      "[array([0, 1]), array([2, 3]), array([4, 5, 6, 7])]\n"
     ]
    }
   ],
   "source": [
    "arr2 = np.arange(8)\n",
    "print(np.split(arr2,(2,4)))"
   ]
  },
  {
   "cell_type": "code",
   "execution_count": 26,
   "id": "133667d2-033e-4c77-b609-806f1845bde7",
   "metadata": {},
   "outputs": [
    {
     "name": "stdout",
     "output_type": "stream",
     "text": [
      "[array([[0, 1, 2, 3],\n",
      "       [4, 5, 6, 7]]), array([[ 8,  9, 10, 11],\n",
      "       [12, 13, 14, 15]])]\n"
     ]
    }
   ],
   "source": [
    "arr3 = np.arange(16).reshape(4,4)\n",
    "print(np.split(arr3,2))"
   ]
  },
  {
   "cell_type": "code",
   "execution_count": 32,
   "id": "95b05de0-8419-4ea1-921f-549f0ff85b94",
   "metadata": {},
   "outputs": [
    {
     "name": "stdout",
     "output_type": "stream",
     "text": [
      "[array([[ 0,  1],\n",
      "       [ 4,  5],\n",
      "       [ 8,  9],\n",
      "       [12, 13]]), array([[ 2,  3],\n",
      "       [ 6,  7],\n",
      "       [10, 11],\n",
      "       [14, 15]])]\n"
     ]
    }
   ],
   "source": [
    "arr3 = np.arange(16).reshape(4,4)\n",
    "print(np.split(arr3,2, axis=1))"
   ]
  },
  {
   "cell_type": "code",
   "execution_count": null,
   "id": "6c254ff2-226a-4989-a9cd-05ae21e328b0",
   "metadata": {},
   "outputs": [],
   "source": []
  },
  {
   "cell_type": "code",
   "execution_count": null,
   "id": "37e1be6a-406e-4c6c-8bd4-2aa2d673b3fe",
   "metadata": {},
   "outputs": [],
   "source": []
  }
 ],
 "metadata": {
  "kernelspec": {
   "display_name": "Python 3 (ipykernel)",
   "language": "python",
   "name": "python3"
  },
  "language_info": {
   "codemirror_mode": {
    "name": "ipython",
    "version": 3
   },
   "file_extension": ".py",
   "mimetype": "text/x-python",
   "name": "python",
   "nbconvert_exporter": "python",
   "pygments_lexer": "ipython3",
   "version": "3.12.4"
  }
 },
 "nbformat": 4,
 "nbformat_minor": 5
}
