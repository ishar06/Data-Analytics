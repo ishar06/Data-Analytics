{
 "cells": [
  {
   "cell_type": "code",
   "execution_count": 10,
   "id": "d87f676e-1649-4415-b460-4f4a25bfbe89",
   "metadata": {},
   "outputs": [
    {
     "name": "stdout",
     "output_type": "stream",
     "text": [
      "[[1 2]\n",
      " [3 4]\n",
      " [5 6]]\n"
     ]
    }
   ],
   "source": [
    "import numpy as np\n",
    "arr1 = np.array([[1,2],[3,4]])\n",
    "arr2 = np.array([[5,6]])\n",
    "arr3 = np.concatenate((arr1,arr2), axis=0)\n",
    "print(arr3)"
   ]
  },
  {
   "cell_type": "code",
   "execution_count": null,
   "id": "118fff48-9869-4625-bf44-5f6ecacb50e2",
   "metadata": {},
   "outputs": [],
   "source": [
    "# To concatenate:\n",
    "# 1. Check Shape, if we are concatinating vertically we need columns to be same and if concatinating horizontally we need no. of \n",
    "#    rows to be same"
   ]
  },
  {
   "cell_type": "code",
   "execution_count": 22,
   "id": "9fd53c7b-50e7-4b62-ba58-0dff5c8f3dc4",
   "metadata": {},
   "outputs": [
    {
     "name": "stdout",
     "output_type": "stream",
     "text": [
      "[[1 2 5]\n",
      " [3 4 6]]\n"
     ]
    }
   ],
   "source": [
    "arr1 = np.array([[1,2],[3,4]])\n",
    "arr2 = np.array([[5,6]])\n",
    "arr3 = np.concatenate((arr1,arr2.T), axis=1)\n",
    "print(arr3)"
   ]
  },
  {
   "cell_type": "code",
   "execution_count": 24,
   "id": "90daf215-fe56-4703-ac9d-59eb40f08529",
   "metadata": {},
   "outputs": [
    {
     "name": "stdout",
     "output_type": "stream",
     "text": [
      "[1 2 3 4 5 6]\n"
     ]
    }
   ],
   "source": [
    "# Flattening occurs if axis=None\n",
    "arr1 = np.array([[1,2],[3,4]])\n",
    "arr2 = np.array([[5,6]])\n",
    "arr3 = np.concatenate((arr1,arr2.T), axis=None)\n",
    "print(arr3)"
   ]
  },
  {
   "cell_type": "code",
   "execution_count": 26,
   "id": "0c2d8b19-6749-450c-9db0-e3fbc9509448",
   "metadata": {},
   "outputs": [
    {
     "name": "stdout",
     "output_type": "stream",
     "text": [
      "[1 2 3 4 5 6]\n"
     ]
    }
   ],
   "source": [
    "arr6 = np.array([1,2,3])\n",
    "arr7 = np.array([4,5,6])\n",
    "arr8 = np.hstack((arr6,arr7))\n",
    "print(arr8)\n",
    "# In 1D array, hstack works same as concatenation "
   ]
  },
  {
   "cell_type": "code",
   "execution_count": 30,
   "id": "5105ea59-edb8-4ad4-8177-980ad9e1f499",
   "metadata": {},
   "outputs": [
    {
     "name": "stdout",
     "output_type": "stream",
     "text": [
      "[[1 2 5 6]\n",
      " [3 4 7 8]]\n"
     ]
    }
   ],
   "source": [
    "a = np.array([[1,2],[3,4]])\n",
    "b = np.array([[5,6],[7,8]])\n",
    "c = np.hstack((a,b))\n",
    "print(c)\n",
    "# Whenever we do hstack, no. of columns increases and rows remain same"
   ]
  },
  {
   "cell_type": "code",
   "execution_count": 34,
   "id": "6638ec88-3c9d-4259-957f-f99feed0645a",
   "metadata": {},
   "outputs": [
    {
     "name": "stdout",
     "output_type": "stream",
     "text": [
      "[[1 4]\n",
      " [2 5]\n",
      " [3 6]]\n"
     ]
    }
   ],
   "source": [
    "a = np.array([[1],[2],[3]]) # (3,1)\n",
    "b = np.array([[4],[5],[6]]) # (3,1)\n",
    "c = np.hstack((a,b))        # (3,2)\n",
    "print(c)"
   ]
  },
  {
   "cell_type": "code",
   "execution_count": 42,
   "id": "322ac891-bbeb-45ff-88b4-14679ee24480",
   "metadata": {},
   "outputs": [
    {
     "name": "stdout",
     "output_type": "stream",
     "text": [
      "[[1 2 3]\n",
      " [4 5 6]]\n"
     ]
    }
   ],
   "source": [
    "a = np.array([1,2,3]) # (3,) --> (1,3)\n",
    "b = np.array([4,5,6]) # (3,) --> (1,3)\n",
    "c = np.vstack((a,b))  # (2,3) --> (2,3)\n",
    "print(c)\n",
    "# Broacasting occured\n",
    "# Broadcasting is possible only in vtsack not hstack"
   ]
  },
  {
   "cell_type": "code",
   "execution_count": 46,
   "id": "70dd23e9-6476-4f78-ae36-9bd88fd2dc85",
   "metadata": {},
   "outputs": [
    {
     "name": "stdout",
     "output_type": "stream",
     "text": [
      "[[1]\n",
      " [2]\n",
      " [3]\n",
      " [4]\n",
      " [5]\n",
      " [6]]\n"
     ]
    }
   ],
   "source": [
    "a = np.array([[1],[2],[3]]) # (3,1)\n",
    "b = np.array([[4],[5],[6]]) # (3,1)\n",
    "c = np.vstack((a,b))        # (6,1)\n",
    "print(c)"
   ]
  },
  {
   "cell_type": "code",
   "execution_count": null,
   "id": "dec3053e-a24b-4e14-a990-7e61c5496bc5",
   "metadata": {},
   "outputs": [],
   "source": []
  }
 ],
 "metadata": {
  "kernelspec": {
   "display_name": "Python 3 (ipykernel)",
   "language": "python",
   "name": "python3"
  },
  "language_info": {
   "codemirror_mode": {
    "name": "ipython",
    "version": 3
   },
   "file_extension": ".py",
   "mimetype": "text/x-python",
   "name": "python",
   "nbconvert_exporter": "python",
   "pygments_lexer": "ipython3",
   "version": "3.12.4"
  }
 },
 "nbformat": 4,
 "nbformat_minor": 5
}
