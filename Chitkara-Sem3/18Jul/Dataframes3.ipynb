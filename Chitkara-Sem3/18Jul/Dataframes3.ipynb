{
 "cells": [
  {
   "cell_type": "code",
   "execution_count": 2,
   "id": "08e32fff-5639-4a4d-962c-58faaa97740c",
   "metadata": {},
   "outputs": [],
   "source": [
    "import numpy as np\n",
    "import pandas as pd"
   ]
  },
  {
   "cell_type": "code",
   "execution_count": 14,
   "id": "654ae6d8-de55-40bd-917f-66f407ed501c",
   "metadata": {},
   "outputs": [
    {
     "name": "stdout",
     "output_type": "stream",
     "text": [
      "           angles  degrees\n",
      "circle          0      360\n",
      "triangle        3      180\n",
      "rectangle       4      360\n",
      "\n",
      "           angles  degrees\n",
      "circle          1      361\n",
      "triangle        4      181\n",
      "rectangle       5      361\n",
      "\n",
      "           angles  degrees\n",
      "circle          1      361\n",
      "triangle        4      181\n",
      "rectangle       5      361\n",
      "\n",
      "           angles  degrees\n",
      "circle         -1      359\n",
      "triangle        2      179\n",
      "rectangle       3      359\n"
     ]
    }
   ],
   "source": [
    "dFrame1 = pd.DataFrame(\n",
    "    {\n",
    "        'angles':[0,3,4],\n",
    "        'degrees':[360,180,360]\n",
    "    },\n",
    "    index=['circle','triangle','rectangle']\n",
    ")\n",
    "print(dFrame1)\n",
    "print()\n",
    "print(dFrame1+1)\n",
    "print()\n",
    "print(dFrame1.add(1))\n",
    "print()\n",
    "print(dFrame1-1)\n"
   ]
  }
 ],
 "metadata": {
  "kernelspec": {
   "display_name": "Python 3 (ipykernel)",
   "language": "python",
   "name": "python3"
  },
  "language_info": {
   "codemirror_mode": {
    "name": "ipython",
    "version": 3
   },
   "file_extension": ".py",
   "mimetype": "text/x-python",
   "name": "python",
   "nbconvert_exporter": "python",
   "pygments_lexer": "ipython3",
   "version": "3.12.4"
  }
 },
 "nbformat": 4,
 "nbformat_minor": 5
}
