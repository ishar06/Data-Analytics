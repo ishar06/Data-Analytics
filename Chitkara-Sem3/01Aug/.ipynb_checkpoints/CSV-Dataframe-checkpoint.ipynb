{
 "cells": [
  {
   "cell_type": "code",
   "execution_count": 2,
   "id": "67fc2411-d873-469a-8d13-9629d4797130",
   "metadata": {},
   "outputs": [],
   "source": [
    "import numpy as np\n",
    "import pandas as pd\n",
    "import os"
   ]
  },
  {
   "cell_type": "code",
   "execution_count": 22,
   "id": "6e91f4ad-be60-4bf4-af02-d11d3ea57dd6",
   "metadata": {},
   "outputs": [
    {
     "name": "stdout",
     "output_type": "stream",
     "text": [
      "      Name  Age        City\n",
      "0    Alice   25       Delhi\n",
      "1      Bob   30      Mumbai\n",
      "2  Charlie   35  Chandigarh\n",
      "Check the /Users/ishar/Desktop/Data-Analytics/Chitkara-Sem3/01Aug for the file students.csv\n"
     ]
    }
   ],
   "source": [
    "import pandas as pd\n",
    "import os\n",
    "data = {\n",
    "    'Name':['Alice','Bob','Charlie'],\n",
    "    'Age':[25,30,35],\n",
    "    'City':[\"Delhi\",\"Mumbai\",\"Chandigarh\"]\n",
    "}\n",
    "dFrame1 = pd.DataFrame(data)\n",
    "print(dFrame1)\n",
    "dFrame1.to_csv('students.csv', index=False)\n",
    "print(\"Check the\", os.getcwd(), \"for the file students.csv\")"
   ]
  },
  {
   "cell_type": "code",
   "execution_count": 18,
   "id": "2ff90b8b-e746-432b-80cf-b79a13472c38",
   "metadata": {},
   "outputs": [
    {
     "name": "stdout",
     "output_type": "stream",
     "text": [
      "      Name  Age        City\n",
      "0    Alice   25       Delhi\n",
      "1      Bob   30      Mumbai\n",
      "2  Charlie   35  Chandigarh\n",
      "\n"
     ]
    }
   ],
   "source": [
    "dFrame2 = pd.read_csv('students.csv')\n",
    "print(dFrame2, end=\"\\n\\n\")"
   ]
  },
  {
   "cell_type": "code",
   "execution_count": 26,
   "id": "471dbd05-9182-40d7-bd76-6ed23be4f95f",
   "metadata": {},
   "outputs": [
    {
     "name": "stdout",
     "output_type": "stream",
     "text": [
      "2.0.30\n",
      "1.4.6\n"
     ]
    }
   ],
   "source": [
    "import sqlalchemy\n",
    "import pymysql\n",
    "print(sqlalchemy.__version__)\n",
    "print(pymysql.__version__)"
   ]
  },
  {
   "cell_type": "code",
   "execution_count": 36,
   "id": "ca067a1b-352f-4a6a-a021-e8f5b906611a",
   "metadata": {},
   "outputs": [
    {
     "name": "stdout",
     "output_type": "stream",
     "text": [
      "Data from 'student' table\n",
      "   rollNo name       email  x_per        state\n",
      "0       1  ABC  abc@ms.com  77.41    Karnataka\n",
      "1       2  BCD  bcd@ms.com  33.00    Rajasthan\n",
      "2       3  CDE  cde@ms.com  77.24    Karnataka\n",
      "3       4  def  def@ms.com  66.00  Maharashtra\n",
      "4       8  ijk  ijk@ms.com  65.61    Karnataka\n",
      "5       9  jkl  jkl@ms.com  57.87    Karnataka\n"
     ]
    }
   ],
   "source": [
    "import pandas as pd\n",
    "from sqlalchemy import create_engine\n",
    "\n",
    "engine = create_engine(\"mysql+pymysql://root:<password>@localhost:3306/data_analytics_g9\")\n",
    "df = pd.read_sql(\"student\", con = engine)\n",
    "print(\"Data from 'student' table\")\n",
    "print(df)\n",
    "engine.dispose()"
   ]
  },
  {
   "cell_type": "code",
   "execution_count": null,
   "id": "5ac783d3-0819-4609-80c4-0e962e386731",
   "metadata": {},
   "outputs": [],
   "source": []
  },
  {
   "cell_type": "code",
   "execution_count": null,
   "id": "bc67bcab-39d4-4ae5-ac80-34fe1c31e58e",
   "metadata": {},
   "outputs": [],
   "source": []
  },
  {
   "cell_type": "code",
   "execution_count": null,
   "id": "2df3f74c-2e14-4d78-a0dd-f145aeff970e",
   "metadata": {},
   "outputs": [],
   "source": []
  },
  {
   "cell_type": "code",
   "execution_count": null,
   "id": "59a96a20-fe53-43a4-8a41-474e69748ca7",
   "metadata": {},
   "outputs": [],
   "source": []
  }
 ],
 "metadata": {
  "kernelspec": {
   "display_name": "Python 3 (ipykernel)",
   "language": "python",
   "name": "python3"
  },
  "language_info": {
   "codemirror_mode": {
    "name": "ipython",
    "version": 3
   },
   "file_extension": ".py",
   "mimetype": "text/x-python",
   "name": "python",
   "nbconvert_exporter": "python",
   "pygments_lexer": "ipython3",
   "version": "3.12.4"
  }
 },
 "nbformat": 4,
 "nbformat_minor": 5
}
