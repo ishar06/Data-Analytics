{
 "cells": [
  {
   "cell_type": "code",
   "execution_count": 5,
   "id": "1f7fcd79-c0f7-4e42-9a61-f334d4235e39",
   "metadata": {},
   "outputs": [
    {
     "name": "stdout",
     "output_type": "stream",
     "text": [
      "Help on function findall in module re:\n",
      "\n",
      "findall(pattern, string, flags=0)\n",
      "    Return a list of all non-overlapping matches in the string.\n",
      "\n",
      "    If one or more capturing groups are present in the pattern, return\n",
      "    a list of groups; this will be a list of tuples if the pattern\n",
      "    has more than one group.\n",
      "\n",
      "    Empty matches are included in the result.\n",
      "\n",
      "None\n"
     ]
    }
   ],
   "source": [
    "import re\n",
    "\n",
    "print(help(re.findall))"
   ]
  },
  {
   "cell_type": "code",
   "execution_count": 7,
   "id": "539337e4-7ef0-453d-b940-53c913315dfc",
   "metadata": {},
   "outputs": [
    {
     "name": "stdout",
     "output_type": "stream",
     "text": [
      "[('123', '456', '7890')]\n"
     ]
    }
   ],
   "source": [
    "text = \"123-456-7890\"\n",
    "patternCap = r'(\\d{3})-(\\d{3})-(\\d{4})'\n",
    "\n",
    "print(re.findall(patternCap, text))\n"
   ]
  },
  {
   "cell_type": "code",
   "execution_count": 9,
   "id": "41dc9cf2-1a68-4966-a598-70b45db8c016",
   "metadata": {},
   "outputs": [
    {
     "name": "stdout",
     "output_type": "stream",
     "text": [
      "[('456', '7890')]\n"
     ]
    }
   ],
   "source": [
    "patternNonCap = r'(?:\\d{3})-(\\d{3})-(\\d{4})'\n",
    "print(re.findall(patternNonCap, text))\n"
   ]
  },
  {
   "cell_type": "code",
   "execution_count": 13,
   "id": "e0825803-8b2a-4c5f-8c96-25f96bc37513",
   "metadata": {},
   "outputs": [
    {
     "name": "stdout",
     "output_type": "stream",
     "text": [
      "Found 'fox', starting index: 16 and ending index: 19\n"
     ]
    }
   ],
   "source": [
    "import re\n",
    "\n",
    "text = \"The quick brown fox jumps over the lazy DOG.\"\n",
    "\n",
    "# re.search(): Finds the first occurrence of a pattern anywhere in the string.\n",
    "match1 = re.search(r\"fox\", text)\n",
    "if match1:\n",
    "    print(f\"Found '{match1.group()}', starting index: {match1.start()} and ending index: {match1.end()}\")\n"
   ]
  },
  {
   "cell_type": "code",
   "execution_count": 15,
   "id": "e39ef080-c58f-4093-96c2-f1199f75ef21",
   "metadata": {},
   "outputs": [
    {
     "name": "stdout",
     "output_type": "stream",
     "text": [
      "Found 'DOG', starting index: 40 and ending index: 43\n"
     ]
    }
   ],
   "source": [
    "match2 = re.search(r\"dog\", text, re.I)\n",
    "if match2:\n",
    "    print(f\"Found '{match2.group()}', starting index: {match2.start()} and ending index: {match2.end()}\")\n"
   ]
  },
  {
   "cell_type": "code",
   "execution_count": 21,
   "id": "c01ce494-03d5-49f0-81f9-8a0505995561",
   "metadata": {},
   "outputs": [
    {
     "name": "stdout",
     "output_type": "stream",
     "text": [
      "Not found LAZY, try with Lazy or lazy\n"
     ]
    }
   ],
   "source": [
    "match3 = re.search(r\"LAZY\", text)\n",
    "if match3:\n",
    "    print(f\"Found 'LAZY', starting index: {match3.start()} and ending index: {match3.end()}\")\n",
    "else:\n",
    "    print(\"Not found LAZY, try with Lazy or lazy\")\n"
   ]
  },
  {
   "cell_type": "code",
   "execution_count": 25,
   "id": "1ca0dbeb-e5b0-44e6-afc8-4a5f13af4c9c",
   "metadata": {},
   "outputs": [
    {
     "name": "stdout",
     "output_type": "stream",
     "text": [
      "Match found: hello\n"
     ]
    }
   ],
   "source": [
    "import re\n",
    "\n",
    "text = \"hello world\"\n",
    "pattern = r\"hello\"\n",
    "\n",
    "match_obj = re.match(pattern, text)\n",
    "if match_obj:\n",
    "    print(f\"Match found: {match_obj.group()}\")\n",
    "else:\n",
    "    print(\"No match found.\")\n",
    "\n",
    "\n"
   ]
  },
  {
   "cell_type": "code",
   "execution_count": 27,
   "id": "9db8fc7c-b24d-4d77-926e-ccd2953bfdae",
   "metadata": {},
   "outputs": [
    {
     "name": "stdout",
     "output_type": "stream",
     "text": [
      "No match found for 'world' at the beginning.\n"
     ]
    }
   ],
   "source": [
    "text = \"hello world\"\n",
    "\n",
    "pattern_no_start = r\"world\"\n",
    "\n",
    "match_obj_no_start = re.match(pattern_no_start, text)\n",
    "if match_obj_no_start:\n",
    "    print(f\"Match found: {match_obj_no_start.group()}\")\n",
    "else:\n",
    "    print(\"No match found for 'world' at the beginning.\")"
   ]
  },
  {
   "cell_type": "code",
   "execution_count": 29,
   "id": "57686bdf-7ed2-4ac2-989a-d4dd2f2d80d1",
   "metadata": {},
   "outputs": [
    {
     "name": "stdout",
     "output_type": "stream",
     "text": [
      "['apple', 'banana', 'orange', 'grapes', 'Potato', 'Tomato', 'Cluster-beans']\n",
      "['apple', 'banana', 'orange', 'grapes\\nPotato,Tomato,Cluster-beans']\n"
     ]
    }
   ],
   "source": [
    "import re\n",
    "\n",
    "s = \"\"\"apple,banana;orange grapes\n",
    "Potato,Tomato,Cluster-beans\"\"\"\n",
    "\n",
    "# Split by commas, semicolons, or spaces\n",
    "result = re.split(r\"[,;\\s]+\", s)\n",
    "print(result)\n",
    "\n",
    "# Split by commas, semicolons, or spaces\n",
    "result = re.split(r\"[,;\\s]+\", s, maxsplit = 3)\n",
    "print(result)\n"
   ]
  },
  {
   "cell_type": "code",
   "execution_count": 31,
   "id": "5a13cc55-7b2c-4f86-8151-dfce52defb75",
   "metadata": {},
   "outputs": [
    {
     "name": "stdout",
     "output_type": "stream",
     "text": [
      "Matches without MULTILINE: ['line']\n",
      "Matches with MULTILINE: ['line', 'line', 'line']\n"
     ]
    }
   ],
   "source": [
    "import re\n",
    "\n",
    "text = \"\"\"line One\n",
    "line Second Two\n",
    "line Three\"\"\"\n",
    "\n",
    "pattern = r\"^line\" \n",
    "\n",
    "matches_default = re.findall(pattern, text)\n",
    "print(f\"Matches without MULTILINE: {matches_default}\") \n",
    "\n",
    "matches_multiline = re.findall(pattern, text, flags=re.MULTILINE)\n",
    "print(f\"Matches with MULTILINE: {matches_multiline}\")\n"
   ]
  },
  {
   "cell_type": "code",
   "execution_count": 43,
   "id": "40aaefe3-a117-4d2b-9db0-4e2e7125d1f1",
   "metadata": {},
   "outputs": [
    {
     "name": "stdout",
     "output_type": "stream",
     "text": [
      "Replacing all: grape orange grape banana\n",
      "Replacing first: grape orange apple banana\n"
     ]
    }
   ],
   "source": [
    "import re\n",
    "\n",
    "text = \"apple orange apple banana\"\n",
    "pattern = \"apple\"\n",
    "replacement = \"grape\"\n",
    "\n",
    "# Replace all occurrences\n",
    "result_all = re.sub(pattern, replacement, text)\n",
    "print(f\"Replacing all: {result_all}\")\n",
    "\n",
    "# Replace only the first occurrence\n",
    "result_one = re.sub(pattern, replacement, text, count=1)\n",
    "print(f\"Replacing first: {result_one}\")\n"
   ]
  },
  {
   "cell_type": "code",
   "execution_count": 45,
   "id": "e49891cd-59d3-4e21-ba23-dab7394aabc4",
   "metadata": {},
   "outputs": [
    {
     "name": "stdout",
     "output_type": "stream",
     "text": [
      "chitkara university 0 19\n",
      "['chitkara university']\n",
      "Chitkara University is a university in patiala.\n"
     ]
    }
   ],
   "source": [
    "text1 = \"chitkara university is a university in patiala.\"\n",
    "text2 = \"The chitkara university is near village jhansla\"\n",
    "pattern = \"chitkara university\"\n",
    "p = re.compile(pattern)\n",
    "#print(type(p))\n",
    "m = p.match(text1)\n",
    "print(m.group(), m.start(), m.end())\n",
    "print(p.findall(text1))\n",
    "print(p.sub(\"Chitkara University\", text1))\n"
   ]
  },
  {
   "cell_type": "code",
   "execution_count": null,
   "id": "c222cf08-dbee-4afe-b6af-c6e8376e183f",
   "metadata": {},
   "outputs": [],
   "source": []
  }
 ],
 "metadata": {
  "kernelspec": {
   "display_name": "Python 3 (ipykernel)",
   "language": "python",
   "name": "python3"
  },
  "language_info": {
   "codemirror_mode": {
    "name": "ipython",
    "version": 3
   },
   "file_extension": ".py",
   "mimetype": "text/x-python",
   "name": "python",
   "nbconvert_exporter": "python",
   "pygments_lexer": "ipython3",
   "version": "3.12.4"
  }
 },
 "nbformat": 4,
 "nbformat_minor": 5
}
