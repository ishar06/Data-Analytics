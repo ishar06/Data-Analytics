{
 "cells": [
  {
   "cell_type": "code",
   "execution_count": 11,
   "id": "b8257f5c-3cb4-4375-a452-95aa9da349b4",
   "metadata": {},
   "outputs": [
    {
     "name": "stdout",
     "output_type": "stream",
     "text": [
      "['\"hi\" and \"hello\" are salutations exactly \"']\n"
     ]
    }
   ],
   "source": [
    "import re\n",
    "\n",
    "text = 'The word \"hi\" and \"hello\" are salutations exactly \"' \n",
    "pattern = r'\".+?\"'\n",
    "pattern2 = \"\\\".+?\\\"\"\n",
    "pattern3 = \"\\\".+\\\"\"\n",
    "\n",
    "print(re.findall(pattern3, text))"
   ]
  },
  {
   "cell_type": "code",
   "execution_count": 19,
   "id": "e95145c7-375d-45a9-ba15-9fde1cabf799",
   "metadata": {},
   "outputs": [
    {
     "name": "stdout",
     "output_type": "stream",
     "text": [
      "['The word \"hi\" and \"hello\" are salutations exactly \"']\n"
     ]
    }
   ],
   "source": [
    "text = 'The word \"hi\" and \"hello\" are salutations exactly \"' \n",
    "pattern = r'.+'\n",
    "print(re.findall(pattern, text))"
   ]
  },
  {
   "cell_type": "code",
   "execution_count": 23,
   "id": "0c24852d-07aa-41b8-a1da-f0523218b8b1",
   "metadata": {},
   "outputs": [
    {
     "name": "stdout",
     "output_type": "stream",
     "text": [
      "['', 'T', '', 'h', '', 'e', '', ' ', '', 'w', '', 'o', '', 'r', '', 'd', '', ' ', '', '\"', '', 'h', '', 'i', '', '\"', '', ' ', '', 'a', '', 'n', '', 'd', '', ' ', '', '\"', '', 'h', '', 'e', '', 'l', '', 'l', '', 'o', '', '\"', '', ' ', '', 'a', '', 'r', '', 'e', '', ' ', '', 's', '', 'a', '', 'l', '', 'u', '', 't', '', 'a', '', 't', '', 'i', '', 'o', '', 'n', '', 's', '', ' ', '', 'e', '', 'x', '', 'a', '', 'c', '', 't', '', 'l', '', 'y', '', ' ', '', '\"', '']\n"
     ]
    }
   ],
   "source": [
    "text = 'The word \"hi\" and \"hello\" are salutations exactly \"' \n",
    "pattern = r'.*?'\n",
    "print(re.findall(pattern, text))"
   ]
  },
  {
   "cell_type": "code",
   "execution_count": 25,
   "id": "0ec1aa7b-3a1e-4279-9994-4a1c57279452",
   "metadata": {},
   "outputs": [
    {
     "name": "stdout",
     "output_type": "stream",
     "text": [
      "['', 'T', '', 'h', '', 'e', '', ' ', '', 'w', '', 'o', '', 'r', '', 'd', '', ' ', '', '\"', '', 'h', '', 'i', '', '\"', '', ' ', '', 'a', '', 'n', '', 'd', '', ' ', '', '\"', '', 'h', '', 'e', '', 'l', '', 'l', '', 'o', '', '\"', '', ' ', '', 'a', '', 'r', '', 'e', '', ' ', '', 's', '', 'a', '', 'l', '', 'u', '', 't', '', 'a', '', 't', '', 'i', '', 'o', '', 'n', '', 's', '', ' ', '', 'e', '', 'x', '', 'a', '', 'c', '', 't', '', 'l', '', 'y', '', ' ', '', '\"', '']\n"
     ]
    }
   ],
   "source": [
    "text = 'The word \"hi\" and \"hello\" are salutations exactly \"' \n",
    "pattern = r'.??'\n",
    "print(re.findall(pattern, text))"
   ]
  },
  {
   "cell_type": "code",
   "execution_count": null,
   "id": "51073ccf-ef32-4d50-ac3a-3ba8faf548e9",
   "metadata": {},
   "outputs": [],
   "source": []
  }
 ],
 "metadata": {
  "kernelspec": {
   "display_name": "Python 3 (ipykernel)",
   "language": "python",
   "name": "python3"
  },
  "language_info": {
   "codemirror_mode": {
    "name": "ipython",
    "version": 3
   },
   "file_extension": ".py",
   "mimetype": "text/x-python",
   "name": "python",
   "nbconvert_exporter": "python",
   "pygments_lexer": "ipython3",
   "version": "3.12.4"
  }
 },
 "nbformat": 4,
 "nbformat_minor": 5
}
