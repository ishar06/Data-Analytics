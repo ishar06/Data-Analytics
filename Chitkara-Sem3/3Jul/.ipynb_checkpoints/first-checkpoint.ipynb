{
 "cells": [
  {
   "cell_type": "code",
   "execution_count": 4,
   "id": "521b524d-61f6-425b-8d66-1722ce07e160",
   "metadata": {},
   "outputs": [
    {
     "name": "stdout",
     "output_type": "stream",
     "text": [
      "1.26.4\n",
      "2.2.2\n"
     ]
    }
   ],
   "source": [
    "import numpy as np\n",
    "import pandas as pd\n",
    "print(np.__version__)\n",
    "print(pd.__version__)"
   ]
  },
  {
   "cell_type": "code",
   "execution_count": 2,
   "id": "d10ae3a2-4dc7-4b35-a585-e41bc9c0d614",
   "metadata": {},
   "outputs": [
    {
     "name": "stdout",
     "output_type": "stream",
     "text": [
      "2.3.1\n",
      "2.3.0\n"
     ]
    }
   ],
   "source": [
    "import numpy as np\n",
    "import pandas as pd\n",
    "print(np.__version__)\n",
    "print(pd.__version__)"
   ]
  },
  {
   "cell_type": "code",
   "execution_count": 12,
   "id": "8a0fa2b3-8974-40b9-a1a2-ba03650e7068",
   "metadata": {},
   "outputs": [
    {
     "name": "stdout",
     "output_type": "stream",
     "text": [
      "[10 20 30]\n",
      "[1, 2, 3]\n"
     ]
    }
   ],
   "source": [
    "ar_1 = np.array([10,20,30])\n",
    "l = [1,2,3]\n",
    "print(ar_1)\n",
    "print(l)"
   ]
  },
  {
   "cell_type": "code",
   "execution_count": 16,
   "id": "2cacd821-18af-453d-aacd-314bbfaf2fa6",
   "metadata": {},
   "outputs": [
    {
     "name": "stdout",
     "output_type": "stream",
     "text": [
      "[10 20 30]\n",
      "[10. 20. 30.]\n",
      "[1, 2, 3]\n"
     ]
    }
   ],
   "source": [
    "ar_1 = np.array([10,20,30])\n",
    "ar_2 = np.array([10,20,30], dtype = float)\n",
    "l = [1,2,3]\n",
    "print(ar_1)\n",
    "print(ar_2)\n",
    "print(l)"
   ]
  },
  {
   "cell_type": "code",
   "execution_count": 18,
   "id": "1c4286d2-46b7-451f-8ed1-53d339262d23",
   "metadata": {},
   "outputs": [
    {
     "name": "stdout",
     "output_type": "stream",
     "text": [
      "['10' '20' '30' 'a']\n",
      "[10. 20. 30.]\n",
      "[1, 2, 3]\n"
     ]
    }
   ],
   "source": [
    "ar_1 = np.array([10,20,30,\"a\"])\n",
    "ar_2 = np.array([10,20,30], dtype = float)\n",
    "l = [1,2,3]\n",
    "print(ar_1)\n",
    "print(ar_2)\n",
    "print(l)"
   ]
  },
  {
   "cell_type": "code",
   "execution_count": 26,
   "id": "a3ab33e8-a78f-4872-b48c-98685ee72709",
   "metadata": {},
   "outputs": [
    {
     "name": "stdout",
     "output_type": "stream",
     "text": [
      "[0 0 0]\n"
     ]
    }
   ],
   "source": [
    "ar_3 = np.zeros(3, dtype = int)\n",
    "print(ar_3)"
   ]
  },
  {
   "cell_type": "code",
   "execution_count": 34,
   "id": "fad366a5-4407-49a7-81bd-9e57790f4258",
   "metadata": {},
   "outputs": [
    {
     "name": "stdout",
     "output_type": "stream",
     "text": [
      "[0. 0. 0.]\n",
      "[[0. 0. 0.]\n",
      " [0. 0. 0.]\n",
      " [0. 0. 0.]]\n"
     ]
    }
   ],
   "source": [
    "ar_3 = np.zeros(3)\n",
    "ar_4 = np.zeros((3,3))\n",
    "print(ar_3)\n",
    "print(ar_4)"
   ]
  },
  {
   "cell_type": "code",
   "execution_count": null,
   "id": "1b4446e2-013e-451d-be0a-7ec017451ef7",
   "metadata": {},
   "outputs": [],
   "source": [
    "arr = [\n",
    "    [1,2],\n",
    "    [3,4],\n",
    "    [5,6]\n",
    "]\n",
    "arr2 = [\n",
    "    [[1,2],[3,4],[5,6]],\n",
    "    [[1,2],[3,4],[5,6]]\n",
    "]"
   ]
  },
  {
   "cell_type": "code",
   "execution_count": 36,
   "id": "fcb3e70e-08b8-4494-8a83-d26db7d234a5",
   "metadata": {},
   "outputs": [
    {
     "name": "stdout",
     "output_type": "stream",
     "text": [
      "[1. 1. 1.]\n",
      "[[1. 1. 1.]\n",
      " [1. 1. 1.]\n",
      " [1. 1. 1.]]\n"
     ]
    }
   ],
   "source": [
    "ar_5 = np.ones(3)\n",
    "ar_6 = np.ones((3,3))\n",
    "print(ar_5)\n",
    "print(ar_6)"
   ]
  },
  {
   "cell_type": "code",
   "execution_count": 48,
   "id": "45b16efb-abc1-4653-b1d5-13127dc3b3a2",
   "metadata": {},
   "outputs": [
    {
     "name": "stdout",
     "output_type": "stream",
     "text": [
      "[1 3 5 7 9] 1\n",
      "[0 1 2 3 4]\n"
     ]
    }
   ],
   "source": [
    "arr = np.arange(1,10,2)\n",
    "arr1 = np.arange(5)\n",
    "print(arr, arr.ndim)\n",
    "print(arr1)"
   ]
  },
  {
   "cell_type": "code",
   "execution_count": 46,
   "id": "a8027d2f-5fe7-40d5-aa27-56e9a113d055",
   "metadata": {},
   "outputs": [
    {
     "name": "stdout",
     "output_type": "stream",
     "text": [
      "10\n"
     ]
    }
   ],
   "source": [
    "arr = np.array(10)\n",
    "print(arr)"
   ]
  },
  {
   "cell_type": "code",
   "execution_count": 72,
   "id": "8bf4ccef-9a58-4cb2-ad47-5cd1cd89d0cd",
   "metadata": {},
   "outputs": [
    {
     "name": "stdout",
     "output_type": "stream",
     "text": [
      "[[1. 1. 1.]\n",
      " [1. 1. 1.]]\n",
      "2\n",
      "(2, 3)\n",
      "6\n",
      "float64\n",
      "8\n"
     ]
    }
   ],
   "source": [
    "arr = np.ones((2,3))\n",
    "print(arr)\n",
    "print(arr.ndim)\n",
    "print(arr.shape)\n",
    "print(arr.size)\n",
    "print(arr.dtype)\n",
    "print(arr.itemsize)"
   ]
  },
  {
   "cell_type": "code",
   "execution_count": 66,
   "id": "51b4afa8-5597-4354-90a8-216ea8eb8c23",
   "metadata": {},
   "outputs": [
    {
     "name": "stdout",
     "output_type": "stream",
     "text": [
      "(4,)\n",
      "<U21\n"
     ]
    }
   ],
   "source": [
    "ar_1 = np.array([10,20,30,'a'])\n",
    "print(ar_1.shape)\n",
    "print(ar_1.dtype)"
   ]
  },
  {
   "cell_type": "code",
   "execution_count": null,
   "id": "b92fd3a8-8b8d-4dc7-a0b3-06b424d87ab4",
   "metadata": {},
   "outputs": [],
   "source": []
  }
 ],
 "metadata": {
  "kernelspec": {
   "display_name": "Python 3 (ipykernel)",
   "language": "python",
   "name": "python3"
  },
  "language_info": {
   "codemirror_mode": {
    "name": "ipython",
    "version": 3
   },
   "file_extension": ".py",
   "mimetype": "text/x-python",
   "name": "python",
   "nbconvert_exporter": "python",
   "pygments_lexer": "ipython3",
   "version": "3.12.4"
  }
 },
 "nbformat": 4,
 "nbformat_minor": 5
}
