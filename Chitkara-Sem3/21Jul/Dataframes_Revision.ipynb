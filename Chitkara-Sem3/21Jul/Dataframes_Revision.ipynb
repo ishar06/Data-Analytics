{
 "cells": [
  {
   "cell_type": "code",
   "execution_count": 2,
   "id": "dc5092d2-83e7-4f35-8be1-a047981a680d",
   "metadata": {},
   "outputs": [
    {
     "name": "stdout",
     "output_type": "stream",
     "text": [
      "      Name  Score\n",
      "a    Alice     85\n",
      "b      Bob     90\n",
      "c  Charlie     95\n"
     ]
    }
   ],
   "source": [
    "import pandas as pd\n",
    "\n",
    "data = {'Name': ['Alice', 'Bob', 'Charlie'], 'Score': [85, 90, 95]}\n",
    "df = pd.DataFrame(data, index=['a', 'b', 'c'])\n",
    "print(df)"
   ]
  },
  {
   "cell_type": "code",
   "execution_count": 4,
   "id": "e1b539f5-47c0-45ac-a9d4-c1c4a208f0d2",
   "metadata": {},
   "outputs": [
    {
     "name": "stdout",
     "output_type": "stream",
     "text": [
      "      Name  Score\n",
      "c  Charlie     95\n",
      "a    Alice     85\n",
      "b      Bob     90\n"
     ]
    }
   ],
   "source": [
    "df2 = df.reindex(['c','a','b'])\n",
    "print(df2)"
   ]
  },
  {
   "cell_type": "code",
   "execution_count": 6,
   "id": "731a2b4c-de05-40d9-8766-e319db17f87a",
   "metadata": {},
   "outputs": [
    {
     "name": "stdout",
     "output_type": "stream",
     "text": [
      "      Name  Score\n",
      "c  Charlie   95.0\n",
      "a    Alice   85.0\n",
      "b      Bob   90.0\n",
      "d      NaN    NaN\n"
     ]
    }
   ],
   "source": [
    "df3 = df.reindex(['c','a','b','d'])\n",
    "print(df3)"
   ]
  },
  {
   "cell_type": "code",
   "execution_count": null,
   "id": "e2ba81ab-c5fe-4c7c-ad4a-7e71fe509e42",
   "metadata": {},
   "outputs": [],
   "source": []
  }
 ],
 "metadata": {
  "kernelspec": {
   "display_name": "Python 3 (ipykernel)",
   "language": "python",
   "name": "python3"
  },
  "language_info": {
   "codemirror_mode": {
    "name": "ipython",
    "version": 3
   },
   "file_extension": ".py",
   "mimetype": "text/x-python",
   "name": "python",
   "nbconvert_exporter": "python",
   "pygments_lexer": "ipython3",
   "version": "3.12.4"
  }
 },
 "nbformat": 4,
 "nbformat_minor": 5
}
