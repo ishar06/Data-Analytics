{
 "cells": [
  {
   "cell_type": "code",
   "execution_count": 14,
   "id": "db0b51b9-4fc6-4e18-baac-1699f9c79542",
   "metadata": {},
   "outputs": [
    {
     "name": "stdout",
     "output_type": "stream",
     "text": [
      "         Arnab  Ramit  Samridhi  Riya  Mallika\n",
      "Maths       90     92        89    81       94\n",
      "Science     91     81        91    71       95\n",
      "Hindi       97     96        88    67       99\n"
     ]
    }
   ],
   "source": [
    "import numpy as np\n",
    "import pandas as pd\n",
    "\n",
    "ResultSheet = {\n",
    "  'Arnab': pd.Series([90, 91, 97], index=['Maths','Science','Hindi']),\n",
    "  'Ramit': pd.Series([92, 81, 96], index=['Maths','Science','Hindi']),\n",
    "  'Samridhi': pd.Series([89, 91, 88], index=['Maths','Science','Hindi']), \n",
    "  'Riya': pd.Series([81, 71, 67], index=['Maths','Science','Hindi']),\n",
    "  'Mallika': pd.Series([94, 95, 99], index=['Maths','Science','Hindi'])\n",
    "}\n",
    "dFrame = pd.DataFrame(ResultSheet)\n",
    "print(dFrame)"
   ]
  },
  {
   "cell_type": "code",
   "execution_count": 16,
   "id": "6da975f9-d775-4516-9b4f-c457ba957719",
   "metadata": {},
   "outputs": [
    {
     "name": "stdout",
     "output_type": "stream",
     "text": [
      "         Arnab  Ramit  Samridhi  Riya  Mallika  Preeti\n",
      "Maths       90     92        89    81       94      89\n",
      "Science     91     81        91    71       95      90\n",
      "Hindi       97     96        88    67       99      91\n"
     ]
    }
   ],
   "source": [
    "dFrame[\"Preeti\"] = [89,90,91]\n",
    "print(dFrame)"
   ]
  },
  {
   "cell_type": "code",
   "execution_count": 46,
   "id": "5ac0aa86-51a8-4519-81c3-d578579729b3",
   "metadata": {},
   "outputs": [
    {
     "name": "stdout",
     "output_type": "stream",
     "text": [
      "         Arnab  Jayesh  Ramit  Samridhi  Riya  Mallika  Preeti\n",
      "Maths       71      90     92        89    80       94      89\n",
      "Science     81      95     81        91    80       95      90\n",
      "Hindi       91     100     96        88    80       99      91\n"
     ]
    }
   ],
   "source": [
    "# dFrame.insert(1,\"Jayesh\", np.array([90,95,100]))\n",
    "print(dFrame)"
   ]
  },
  {
   "cell_type": "code",
   "execution_count": 20,
   "id": "aaeaeb11-4ff8-4329-a7de-55626619e54a",
   "metadata": {},
   "outputs": [],
   "source": [
    "# Can we insert multiple columns in a dataframe or not?"
   ]
  },
  {
   "cell_type": "code",
   "execution_count": 42,
   "id": "b7770d0d-0d08-43cd-afd5-39ccb0e6b072",
   "metadata": {},
   "outputs": [
    {
     "name": "stdout",
     "output_type": "stream",
     "text": [
      "         Arnab  Jayesh  Ramit  Samridhi  Riya  Mallika  Preeti\n",
      "Maths       71      90     92        89    80       94      89\n",
      "Science     81      95     81        91    80       95      90\n",
      "Hindi       91     100     96        88    80       99      91\n"
     ]
    }
   ],
   "source": [
    "dFrame[\"Arnab\"] = [71,81,91]\n",
    "dFrame[\"Riya\"] = 80\n",
    "print(dFrame)"
   ]
  },
  {
   "cell_type": "code",
   "execution_count": 48,
   "id": "f1173a2b-c5fc-440f-8cb8-fdb7c88f1fac",
   "metadata": {},
   "outputs": [],
   "source": [
    "# How does pop() and assign() work on dataframes?"
   ]
  },
  {
   "cell_type": "code",
   "execution_count": 50,
   "id": "e29eb418-a8f3-4cc0-9d06-1fd44bde268c",
   "metadata": {},
   "outputs": [],
   "source": [
    "# What is the meaning of <U32 in detail what is <, U, 32"
   ]
  },
  {
   "cell_type": "code",
   "execution_count": null,
   "id": "43fc04a4-2d80-4a2c-9a23-a330bf972f58",
   "metadata": {},
   "outputs": [],
   "source": []
  }
 ],
 "metadata": {
  "kernelspec": {
   "display_name": "Python 3 (ipykernel)",
   "language": "python",
   "name": "python3"
  },
  "language_info": {
   "codemirror_mode": {
    "name": "ipython",
    "version": 3
   },
   "file_extension": ".py",
   "mimetype": "text/x-python",
   "name": "python",
   "nbconvert_exporter": "python",
   "pygments_lexer": "ipython3",
   "version": "3.12.4"
  }
 },
 "nbformat": 4,
 "nbformat_minor": 5
}
