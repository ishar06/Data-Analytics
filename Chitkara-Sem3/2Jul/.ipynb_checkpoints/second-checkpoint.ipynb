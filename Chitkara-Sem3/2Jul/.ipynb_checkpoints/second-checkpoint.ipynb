{
 "cells": [
  {
   "cell_type": "code",
   "execution_count": 2,
   "id": "097e5e69-e2e1-4ad8-bea1-8cde8f11cc48",
   "metadata": {},
   "outputs": [
    {
     "name": "stdout",
     "output_type": "stream",
     "text": [
      "Pandas version: 2.2.2\n",
      "Numpy version: 1.26.4\n"
     ]
    }
   ],
   "source": [
    "import pandas as p\n",
    "import numpy as n\n",
    "\n",
    "print(f\"Pandas version: {p.__version__}\")\n",
    "print(f\"Numpy version: {n.__version__}\")"
   ]
  },
  {
   "cell_type": "code",
   "execution_count": null,
   "id": "f7fce492-c4e3-451d-9511-1c3da6bbc18e",
   "metadata": {},
   "outputs": [],
   "source": []
  }
 ],
 "metadata": {
  "kernelspec": {
   "display_name": "Python 3 (ipykernel)",
   "language": "python",
   "name": "python3"
  },
  "language_info": {
   "codemirror_mode": {
    "name": "ipython",
    "version": 3
   },
   "file_extension": ".py",
   "mimetype": "text/x-python",
   "name": "python",
   "nbconvert_exporter": "python",
   "pygments_lexer": "ipython3",
   "version": "3.12.4"
  }
 },
 "nbformat": 4,
 "nbformat_minor": 5
}
