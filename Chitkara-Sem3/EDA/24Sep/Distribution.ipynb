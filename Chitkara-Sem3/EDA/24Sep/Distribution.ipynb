{
 "cells": [
  {
   "cell_type": "code",
   "execution_count": 5,
   "id": "f6a5ecd1-f0d6-4512-8f4e-9a0495c70de4",
   "metadata": {},
   "outputs": [
    {
     "data": {
      "image/png": "[encoded data removed]",
      "text/plain": [
       "<Figure size 640x480 with 1 Axes>"
      ]
     },
     "metadata": {},
     "output_type": "display_data"
    },
    {
     "data": {
      "image/png": "[encoded data removed]",
      "text/plain": [
       "<Figure size 640x480 with 1 Axes>"
      ]
     },
     "metadata": {},
     "output_type": "display_data"
    }
   ],
   "source": [
    "import numpy as np\n",
    "import matplotlib.pyplot as plt\n",
    "from scipy.stats import shapiro\n",
    "\n",
    "x = np.random.normal(size=300)\n",
    "plt.hist(x)\n",
    "plt.show()\n",
    "\n",
    "y = np.random.uniform(size=300)\n",
    "plt.hist(y)\n",
    "plt.show()\n"
   ]
  },
  {
   "cell_type": "code",
   "execution_count": 7,
   "id": "01a92f30-100a-4fec-bdd7-1cef1a476abe",
   "metadata": {},
   "outputs": [
    {
     "name": "stdout",
     "output_type": "stream",
     "text": [
      "ShapiroResult(statistic=np.float64(0.995655735819836), pvalue=np.float64(0.5720671669662143))\n",
      "ShapiroResult(statistic=np.float64(0.9497043725208192), pvalue=np.float64(1.2947102128138975e-08))\n"
     ]
    }
   ],
   "source": [
    "print(shapiro(x))\n",
    "print(shapiro(y))\n"
   ]
  },
  {
   "cell_type": "code",
   "execution_count": 11,
   "id": "985be54b-59ca-4ed8-9dc2-90c7b78b2495",
   "metadata": {},
   "outputs": [
    {
     "name": "stdout",
     "output_type": "stream",
     "text": [
      "   StudentID  Age Gender  Marks     City  Attendance  StudyHours\n",
      "0          1   20   Male   90.6    Delhi        85.0         6.1\n",
      "1          2   21   Male   72.6  Kolkata         NaN         8.9\n",
      "2          3   19   Male   65.4  Kolkata         NaN        11.7\n",
      "3          4   21   Male   80.1   Mumbai        90.0        20.8\n",
      "4          5   21   Male   66.2    Delhi        80.0        22.8\n",
      "<class 'pandas.core.frame.DataFrame'>\n",
      "RangeIndex: 100 entries, 0 to 99\n",
      "Data columns (total 7 columns):\n",
      " #   Column      Non-Null Count  Dtype  \n",
      "---  ------      --------------  -----  \n",
      " 0   StudentID   100 non-null    int64  \n",
      " 1   Age         100 non-null    int64  \n",
      " 2   Gender      100 non-null    object \n",
      " 3   Marks       100 non-null    float64\n",
      " 4   City        100 non-null    object \n",
      " 5   Attendance  82 non-null     float64\n",
      " 6   StudyHours  100 non-null    float64\n",
      "dtypes: float64(3), int64(2), object(2)\n",
      "memory usage: 5.6+ KB\n",
      "None\n"
     ]
    }
   ],
   "source": [
    "import pandas as pd\n",
    "import numpy as np\n",
    "np.random.seed(42)\n",
    "\n",
    "\n",
    "\n",
    "# Generate synthetic dataset\n",
    "\n",
    "student_df = pd.DataFrame({\n",
    "\n",
    "    'StudentID': range(1, 101),\n",
    "\n",
    "    'Age': np.random.randint(17, 23, 100),\n",
    "\n",
    "    'Gender': np.random.choice(['Male', 'Female'], 100),\n",
    "\n",
    "    'Marks': np.random.normal(loc=70, scale=15, size=100).round(1),\n",
    "\n",
    "    'City': np.random.choice(['Delhi', 'Mumbai', 'Chennai', 'Kolkata'], 100),\n",
    "\n",
    "    'Attendance': np.random.choice([np.nan, 75, 80, 85, 90, 95], 100, p=[0.1, 0.2, 0.2, 0.2, 0.2, 0.1]),\n",
    "\n",
    "    'StudyHours': np.random.normal(loc=15, scale=5, size=100).round(1)\n",
    "\n",
    "})\n",
    "\n",
    "print(student_df.head())\n",
    "print(student_df.info())"
   ]
  },
  {
   "cell_type": "code",
   "execution_count": null,
   "id": "766544d4-57ad-4c66-978d-0541f154b0d2",
   "metadata": {},
   "outputs": [],
   "source": []
  }
 ],
 "metadata": {
  "kernelspec": {
   "display_name": "Python 3 (ipykernel)",
   "language": "python",
   "name": "python3"
  },
  "language_info": {
   "codemirror_mode": {
    "name": "ipython",
    "version": 3
   },
   "file_extension": ".py",
   "mimetype": "text/x-python",
   "name": "python",
   "nbconvert_exporter": "python",
   "pygments_lexer": "ipython3",
   "version": "3.12.4"
  }
 },
 "nbformat": 4,
 "nbformat_minor": 5
}
