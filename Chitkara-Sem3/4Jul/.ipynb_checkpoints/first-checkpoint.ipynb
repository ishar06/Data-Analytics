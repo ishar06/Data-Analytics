{
 "cells": [
  {
   "cell_type": "code",
   "execution_count": 10,
   "id": "7fdc5ecd-f9c7-408b-9119-0d5a9bdea6a3",
   "metadata": {},
   "outputs": [
    {
     "name": "stdout",
     "output_type": "stream",
     "text": [
      "[15 13 11  9  7  5]\n",
      "[ 5  9 13]\n"
     ]
    }
   ],
   "source": [
    "import numpy as np\n",
    "a = np.arange(15, 4, -2)\n",
    "print(a)\n",
    "print(a[6:0:-2])\n",
    "# even though we are starting with index 6 but the array contains only 5 elements it doesn't give any error"
   ]
  },
  {
   "cell_type": "code",
   "execution_count": 16,
   "id": "4a68d59e-1e85-4833-b4fe-b4ade0298082",
   "metadata": {},
   "outputs": [
    {
     "name": "stdout",
     "output_type": "stream",
     "text": [
      "[1, 2, 3, 4, 5, 6, 7, 8, 10]\n"
     ]
    }
   ],
   "source": [
    "l1 = [1,2,3,4]\n",
    "l2 = [5,6,7,8, 10]\n",
    "print(l1 + l2)"
   ]
  },
  {
   "cell_type": "code",
   "execution_count": 14,
   "id": "1ffb8f14-96c8-439c-b9e4-42859747c130",
   "metadata": {},
   "outputs": [
    {
     "name": "stdout",
     "output_type": "stream",
     "text": [
      "[ 6  8 10 12]\n"
     ]
    }
   ],
   "source": [
    "l1 = np.array([1,2,3,4])\n",
    "l2 = np.array([5,6,7,8])\n",
    "print(l1 + l2)"
   ]
  },
  {
   "cell_type": "code",
   "execution_count": 20,
   "id": "8da8c56b-7f01-4b3f-9507-47a8998024a9",
   "metadata": {},
   "outputs": [
    {
     "name": "stdout",
     "output_type": "stream",
     "text": [
      "[[ 6  8 10 12]\n",
      " [14 14 14 14]]\n"
     ]
    }
   ],
   "source": [
    "l1 = np.array([[1,2,3,4], [9,8,7,6]])\n",
    "l2 = np.array([5,6,7,8])\n",
    "print(l1 + l2)"
   ]
  },
  {
   "cell_type": "code",
   "execution_count": 22,
   "id": "6a6d492d-1b3e-4333-9f5a-fd4f7152c1f2",
   "metadata": {},
   "outputs": [
    {
     "name": "stdout",
     "output_type": "stream",
     "text": [
      "[[11 12 13]\n",
      " [24 25 26]]\n"
     ]
    }
   ],
   "source": [
    "a = np.array([[1,2,3],[4,5,6]])\n",
    "b = np.array([[10],[20]])\n",
    "print(a+b)"
   ]
  },
  {
   "cell_type": "code",
   "execution_count": null,
   "id": "9840a42e-a93a-43ff-a022-61dae026a3d2",
   "metadata": {},
   "outputs": [],
   "source": []
  }
 ],
 "metadata": {
  "kernelspec": {
   "display_name": "Python 3 (ipykernel)",
   "language": "python",
   "name": "python3"
  },
  "language_info": {
   "codemirror_mode": {
    "name": "ipython",
    "version": 3
   },
   "file_extension": ".py",
   "mimetype": "text/x-python",
   "name": "python",
   "nbconvert_exporter": "python",
   "pygments_lexer": "ipython3",
   "version": "3.12.4"
  }
 },
 "nbformat": 4,
 "nbformat_minor": 5
}
