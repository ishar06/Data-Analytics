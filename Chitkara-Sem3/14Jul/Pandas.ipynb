{
 "cells": [
  {
   "cell_type": "code",
   "execution_count": 2,
   "id": "f573459d-2004-4c6a-99bb-83305f4619c0",
   "metadata": {},
   "outputs": [],
   "source": [
    "import numpy as np\n",
    "import pandas as pd"
   ]
  },
  {
   "cell_type": "code",
   "execution_count": 4,
   "id": "9d2ec732-3832-4cf4-b41b-e20b96347315",
   "metadata": {},
   "outputs": [
    {
     "name": "stdout",
     "output_type": "stream",
     "text": [
      "0    10\n",
      "1    20\n",
      "2    30\n",
      "dtype: int64\n"
     ]
    }
   ],
   "source": [
    "series1 = pd.Series([10,20,30])\n",
    "print(series1)"
   ]
  },
  {
   "cell_type": "code",
   "execution_count": 6,
   "id": "1d76ce07-13b9-43d8-ba1a-cc77c080f267",
   "metadata": {},
   "outputs": [
    {
     "name": "stdout",
     "output_type": "stream",
     "text": [
      "0    10\n",
      "1    15\n",
      "2    20\n",
      "3    25\n",
      "4    30\n",
      "dtype: int64\n"
     ]
    }
   ],
   "source": [
    "arr = np.arange(10,31,5)\n",
    "series = pd.Series(arr)\n",
    "print(series)"
   ]
  },
  {
   "cell_type": "code",
   "execution_count": 8,
   "id": "4cf349ae-ceba-4cde-a880-a70b859baf16",
   "metadata": {},
   "outputs": [
    {
     "name": "stdout",
     "output_type": "stream",
     "text": [
      "3     Kavi\n",
      "5    Shyam\n",
      "1     Ravi\n",
      "dtype: object\n"
     ]
    }
   ],
   "source": [
    "series3 = pd.Series([\"Kavi\", \"Shyam\", \"Ravi\"], index=[3, 5,1])\n",
    "print(series3)\n"
   ]
  },
  {
   "cell_type": "code",
   "execution_count": 10,
   "id": "f01dc7bf-f79e-4bef-9ea5-c84a2c139374",
   "metadata": {},
   "outputs": [
    {
     "name": "stdout",
     "output_type": "stream",
     "text": [
      "India    NewDelhi\n",
      "UK         London\n",
      "Japan       Tokyo\n",
      "dtype: object\n"
     ]
    }
   ],
   "source": [
    "dict1 = {'India': 'NewDelhi', 'UK': 'London', 'Japan': 'Tokyo'}\n",
    "series5 = pd.Series(dict1)\n",
    "print(series5)\n"
   ]
  },
  {
   "cell_type": "code",
   "execution_count": 18,
   "id": "6296e164-9636-46e0-b67e-b322eac2e6b9",
   "metadata": {},
   "outputs": [
    {
     "name": "stdout",
     "output_type": "stream",
     "text": [
      "India     NewDelhi\n",
      "UK          London\n",
      "Japan        Tokyo\n",
      "France         NaN\n",
      "dtype: object\n"
     ]
    }
   ],
   "source": [
    "# Extra index in a dictionary\n",
    "dict1 = {'India': 'NewDelhi', 'UK': 'London', 'Japan': 'Tokyo'}\n",
    "series6 = pd.Series(dict1, index = ['India', 'UK', 'Japan', 'France'])\n",
    "print(series6)\n"
   ]
  },
  {
   "cell_type": "code",
   "execution_count": 16,
   "id": "93f96b74-bf68-458a-b70c-a752163ae3d0",
   "metadata": {},
   "outputs": [
    {
     "name": "stdout",
     "output_type": "stream",
     "text": [
      "['NewDelhi' 'London' 'Tokyo' nan]\n",
      "object\n"
     ]
    }
   ],
   "source": [
    "# to_numpy()\n",
    "arr = series6 .to_numpy()\n",
    "print(arr)\n",
    "print(arr.dtype)\n"
   ]
  },
  {
   "cell_type": "code",
   "execution_count": 26,
   "id": "86e936c9-60b7-4e80-8c72-7e324054e5cd",
   "metadata": {},
   "outputs": [
    {
     "name": "stdout",
     "output_type": "stream",
     "text": [
      "NewDelhi\n"
     ]
    }
   ],
   "source": [
    "# Error at Uganda\n",
    "country_cap_series = pd.Series(['NewDelhi', 'WashingtonDC', 'London', 'Paris'], index=['India', 'USA', 'UK', 'France'])\n",
    "print(country_cap_series['India'])\n",
    "# print(country_cap_series[‘Uganda’])\n"
   ]
  },
  {
   "cell_type": "code",
   "execution_count": 30,
   "id": "c64ee25c-7655-461e-b37e-013fbd87e1e6",
   "metadata": {},
   "outputs": [
    {
     "name": "stdout",
     "output_type": "stream",
     "text": [
      "Paris\n",
      "None\n"
     ]
    }
   ],
   "source": [
    "# By passing the Uganda error using get() --> None\n",
    "print(country_cap_series.get('France'))\n",
    "print(country_cap_series.get('Uganda'))\n"
   ]
  },
  {
   "cell_type": "code",
   "execution_count": 44,
   "id": "a6b7b78b-506f-4acc-a984-dd2d1155468a",
   "metadata": {},
   "outputs": [
    {
     "name": "stdout",
     "output_type": "stream",
     "text": [
      "NewDelhi\n",
      "Paris\n",
      "USA    WashingtonDC\n",
      "UK           London\n",
      "dtype: object\n"
     ]
    }
   ],
   "source": [
    "# iloc\n",
    "print(country_cap_series.iloc[0])\n",
    "print(country_cap_series.iloc[-1])\n",
    "print(country_cap_series.iloc[1:3])\n"
   ]
  },
  {
   "cell_type": "code",
   "execution_count": 46,
   "id": "1ea221b1-e9d4-4de9-9614-6b6bd9ca5ef9",
   "metadata": {},
   "outputs": [
    {
     "name": "stdout",
     "output_type": "stream",
     "text": [
      "UK           London\n",
      "USA    WashingtonDC\n",
      "dtype: object\n"
     ]
    }
   ],
   "source": [
    "print(country_cap_series[['UK','USA']])"
   ]
  },
  {
   "cell_type": "code",
   "execution_count": 50,
   "id": "4da8efef-0b7d-4d59-a8b3-6a6c632d5792",
   "metadata": {},
   "outputs": [
    {
     "name": "stdout",
     "output_type": "stream",
     "text": [
      "10        NewDelhi\n",
      "20    WashingtonDC\n",
      "30          London\n",
      "40           Paris\n",
      "dtype: object\n"
     ]
    }
   ],
   "source": [
    "# Updating the index once again \n",
    "country_cap_series.index = [10, 20, 30, 40]\n",
    "print(country_cap_series)\n"
   ]
  },
  {
   "cell_type": "code",
   "execution_count": 52,
   "id": "6e38c45f-44cb-4cfa-9169-a5d777fc08ba",
   "metadata": {},
   "outputs": [
    {
     "name": "stdout",
     "output_type": "stream",
     "text": [
      "USA    WashingtonDC\n",
      "UK           London\n",
      "dtype: object\n"
     ]
    }
   ],
   "source": [
    "country_cap_series.index = ['India', 'USA', 'UK', 'France']\n",
    "print(country_cap_series[1: 3])\n"
   ]
  },
  {
   "cell_type": "code",
   "execution_count": 56,
   "id": "b41d8d1d-1efe-41ff-bfa0-ca53fc77bc56",
   "metadata": {},
   "outputs": [
    {
     "name": "stdout",
     "output_type": "stream",
     "text": [
      "USA       WashingtonDC\n",
      "UK              London\n",
      "France           Paris\n",
      "dtype: object\n"
     ]
    }
   ],
   "source": [
    "# Last element also gets printed in the slicing by changes indices\n",
    "print(country_cap_series['USA' : 'France'])"
   ]
  },
  {
   "cell_type": "code",
   "execution_count": 66,
   "id": "b082f874-b4d1-4904-bc06-f9110caef9fe",
   "metadata": {},
   "outputs": [
    {
     "name": "stdout",
     "output_type": "stream",
     "text": [
      "a    10\n",
      "b    50\n",
      "c    50\n",
      "d    13\n",
      "e    14\n",
      "f    15\n",
      "dtype: int64\n"
     ]
    }
   ],
   "source": [
    "# Slicing can be used to modify values as well, excludes last value in deafult labelling \n",
    "seriesAlph = pd.Series(np.arange(10, 16, 1), index = ['a', 'b', 'c', 'd', 'e', 'f'])\n",
    "seriesAlph[1:3] = 50\n",
    "print(seriesAlph)\n"
   ]
  },
  {
   "cell_type": "code",
   "execution_count": 70,
   "id": "8b0da852-bb46-470a-9ffb-b434412d1e85",
   "metadata": {},
   "outputs": [],
   "source": [
    "# Attributes of the series\n",
    "# 1. name: assigns a name to the Series\n",
    "# 2. index.name: assigns a name to the index of the series\n",
    "# 3. values: prints a list of the values in the series\n",
    "# 4. size: prints the number of values in the Series object\n",
    "# 5. empty: prints True if the series is empty, and False otherwise\n"
   ]
  },
  {
   "cell_type": "code",
   "execution_count": 74,
   "id": "0eb0fc3c-0198-4762-adc2-a8b1043e88e3",
   "metadata": {},
   "outputs": [
    {
     "name": "stdout",
     "output_type": "stream",
     "text": [
      "0    100\n",
      "1    200\n",
      "2    300\n",
      "Name: Salary, dtype: int64\n"
     ]
    }
   ],
   "source": [
    "s = pd.Series([100, 200, 300])\n",
    "s.name = \"Salary\"\n",
    "print(s)\n"
   ]
  },
  {
   "cell_type": "code",
   "execution_count": 76,
   "id": "c584504d-b2e4-4bc9-9d7b-de3bf53fe76d",
   "metadata": {},
   "outputs": [
    {
     "name": "stdout",
     "output_type": "stream",
     "text": [
      "EmpID\n",
      "0    100\n",
      "1    200\n",
      "2    300\n",
      "Name: Salary, dtype: int64\n",
      "[100 200 300]\n",
      "3\n"
     ]
    }
   ],
   "source": [
    "s.index.name = \"EmpID\"\n",
    "print(s)\n",
    "print(s.values)\t# [100 200 300]\n",
    "print(s.size)\t# 3\n"
   ]
  },
  {
   "cell_type": "code",
   "execution_count": 78,
   "id": "be87fde5-4086-44da-80b7-ebc9c4e02f06",
   "metadata": {},
   "outputs": [
    {
     "name": "stdout",
     "output_type": "stream",
     "text": [
      "True\n"
     ]
    }
   ],
   "source": [
    "empty_series = pd.Series([])\n",
    "print(empty_series.empty)  # True\n"
   ]
  },
  {
   "cell_type": "code",
   "execution_count": 80,
   "id": "c6f3668a-3399-4db2-a73b-50e56be66425",
   "metadata": {},
   "outputs": [],
   "source": [
    "# METHODS IN SERIES\n",
    "# 1. head(n)\n",
    "# 2. tail(n)\n",
    "# 3. count()"
   ]
  },
  {
   "cell_type": "code",
   "execution_count": 96,
   "id": "fb5ce57d-6b34-4c34-8aa5-193a8ab1db6e",
   "metadata": {},
   "outputs": [
    {
     "name": "stdout",
     "output_type": "stream",
     "text": [
      "First 2 elements of s1 (head(2)):\n",
      " A    10.0\n",
      "B    20.0\n",
      "dtype: float64\n"
     ]
    }
   ],
   "source": [
    "s1 = pd.Series([10, 20, np.nan, 40], index=['A', 'B', 'C', 'D'])\n",
    "s2 = pd.Series([1, 2, 3, 4, 5], index=['B', 'C', 'D', 'E', 'F'])\n",
    "\n",
    "print(\"First 2 elements of s1 (head(2)):\\n\", s1.head(2))\n",
    "\n"
   ]
  },
  {
   "cell_type": "code",
   "execution_count": 88,
   "id": "a200c102-6c99-4b44-80f0-655d047d3f99",
   "metadata": {},
   "outputs": [
    {
     "name": "stdout",
     "output_type": "stream",
     "text": [
      "Last 3 elements of s2 (tail(3)):\n",
      " D    3\n",
      "E    4\n",
      "F    5\n",
      "dtype: int64\n"
     ]
    }
   ],
   "source": [
    "print(\"Last 3 elements of s2 (tail(3)):\\n\", s2.tail(3))"
   ]
  },
  {
   "cell_type": "code",
   "execution_count": 92,
   "id": "95e6debc-1805-4e4a-9e00-c82b318e1c1f",
   "metadata": {},
   "outputs": [
    {
     "name": "stdout",
     "output_type": "stream",
     "text": [
      "Number of non-NaN values in s1 (count()): 3\n"
     ]
    }
   ],
   "source": [
    "print(\"Number of non-NaN values in s1 (count()):\", s1.count())"
   ]
  },
  {
   "cell_type": "code",
   "execution_count": 99,
   "id": "9acaacc0-0072-494c-af69-c61c2560e31c",
   "metadata": {},
   "outputs": [
    {
     "name": "stdout",
     "output_type": "stream",
     "text": [
      "s1 + s2 (default NaN handling):\n",
      " A     NaN\n",
      "B    21.0\n",
      "C     NaN\n",
      "D    43.0\n",
      "E     NaN\n",
      "F     NaN\n",
      "dtype: float64\n"
     ]
    }
   ],
   "source": [
    "s1 = pd.Series([10, 20, np.nan, 40], index=['A', 'B', 'C', 'D'])\n",
    "s2 = pd.Series([1, 2, 3, 4, 5], index=['B', 'C', 'D', 'E', 'F'])\n",
    "\n",
    "add_default = s1 + s2\n",
    "print(\"s1 + s2 (default NaN handling):\\n\", add_default)\n"
   ]
  },
  {
   "cell_type": "code",
   "execution_count": 101,
   "id": "73b17c8c-0eac-4f0f-9a9d-153612cdd887",
   "metadata": {},
   "outputs": [
    {
     "name": "stdout",
     "output_type": "stream",
     "text": [
      "\n",
      "s1 + s2 (with fill_value=0):\n",
      " A    10.0\n",
      "B    21.0\n",
      "C     2.0\n",
      "D    43.0\n",
      "E     4.0\n",
      "F     5.0\n",
      "dtype: float64\n"
     ]
    }
   ],
   "source": [
    "s1 = pd.Series([10, 20, np.nan, 40], index=['A', 'B', 'C', 'D'])\n",
    "s2 = pd.Series([1, 2, 3, 4, 5], index=['B', 'C', 'D', 'E', 'F'])\n",
    "\n",
    "add_filled = s1.add(s2, fill_value=0)\n",
    "print(\"\\ns1 + s2 (with fill_value=0):\\n\", add_filled)\n"
   ]
  },
  {
   "cell_type": "code",
   "execution_count": 105,
   "id": "84be9961-773c-496f-8be8-8baa8c4f0cc7",
   "metadata": {},
   "outputs": [
    {
     "name": "stdout",
     "output_type": "stream",
     "text": [
      "[10. nan 20. 30. 40.]\n",
      "float64\n"
     ]
    }
   ],
   "source": [
    "ar_1 = np.array([10, np.nan, 20, 30, 40])\n",
    "print(ar_1)\n",
    "print(ar_1.dtype)"
   ]
  },
  {
   "cell_type": "code",
   "execution_count": 111,
   "id": "da48e0bc-95e2-4e25-a398-b39b035d4f30",
   "metadata": {},
   "outputs": [
    {
     "name": "stdout",
     "output_type": "stream",
     "text": [
      "['Google' 'nan' 'Meta' 'Amazon' 'Apple']\n",
      "<U32\n"
     ]
    }
   ],
   "source": [
    "ar_2 = np.array(['Google', np.nan, 'Meta', 'Amazon', 'Apple'])\n",
    "print(ar_2)\n",
    "print(ar_2.dtype) # String"
   ]
  },
  {
   "cell_type": "code",
   "execution_count": 115,
   "id": "49676d1c-6de1-4f1e-b777-18ba7bb56edc",
   "metadata": {},
   "outputs": [
    {
     "name": "stdout",
     "output_type": "stream",
     "text": [
      "[nan {'name': 'Google'} 123]\n",
      "object\n"
     ]
    }
   ],
   "source": [
    "ar_3 = np.array([np.nan, {'name': 'Google'}, 123])\n",
    "print(ar_3)\n",
    "print(ar_3.dtype) # Object"
   ]
  },
  {
   "cell_type": "code",
   "execution_count": 125,
   "id": "3bf9f8ac-8785-4df9-ac1b-95d31c4c3a6c",
   "metadata": {},
   "outputs": [
    {
     "name": "stdout",
     "output_type": "stream",
     "text": [
      "[False  True False False False]\n"
     ]
    }
   ],
   "source": [
    "# isnan()\n",
    "ar_4 = np.array([1, np.nan, 4, 8, 13])\n",
    "print(np.isnan(ar_4))"
   ]
  },
  {
   "cell_type": "code",
   "execution_count": 129,
   "id": "8224c20e-dc11-4712-9447-cfa3747d45b1",
   "metadata": {},
   "outputs": [
    {
     "name": "stdout",
     "output_type": "stream",
     "text": [
      "The sum of all element is nan\n",
      "The maximum among of all element is nan\n",
      "The minimum among of all element is nan\n",
      "\n",
      "The index of minimum among of all element is 1\n",
      "The index of maximum among of all element is 1\n"
     ]
    }
   ],
   "source": [
    "# Mathematical Operations\n",
    "print(\"The sum of all element is\", np.sum(ar_4))\n",
    "print(\"The maximum among of all element is\", np.max(ar_4))\n",
    "print(\"The minimum among of all element is\", np.min(ar_4))\n",
    "print()\n",
    "print(\"The index of minimum among of all element is\", np.argmin(ar_4))\n",
    "print(\"The index of maximum among of all element is\", np.argmax(ar_4))"
   ]
  },
  {
   "cell_type": "code",
   "execution_count": 133,
   "id": "477f5f10-5284-46ee-87eb-3051ca8b3d98",
   "metadata": {},
   "outputs": [
    {
     "name": "stdout",
     "output_type": "stream",
     "text": [
      "The sum of all element is 26.0\n",
      "The maximum among of all element is 13.0\n",
      "The minimum among of all element is 1.0\n",
      "\n",
      "The index of minimum among of all element is 0\n",
      "The index of maximum among of all element is 4\n"
     ]
    }
   ],
   "source": [
    "# By passing NaN in Mathematical Operations\n",
    "print(\"The sum of all element is\", np.nansum(ar_4))\n",
    "print(\"The maximum among of all element is\", np.nanmax(ar_4))\n",
    "print(\"The minimum among of all element is\", np.nanmin(ar_4))\n",
    "print()\n",
    "print(\"The index of minimum among of all element is\", np.nanargmin(ar_4))\n",
    "print(\"The index of maximum among of all element is\", np.nanargmax(ar_4))"
   ]
  },
  {
   "cell_type": "code",
   "execution_count": 137,
   "id": "03510ba0-1c6b-49a7-8fef-2900895a1d68",
   "metadata": {},
   "outputs": [
    {
     "name": "stdout",
     "output_type": "stream",
     "text": [
      "False\n",
      "True\n"
     ]
    }
   ],
   "source": [
    "# Comparison of np.nan with itself\n",
    "a = np.nan\n",
    "b = np.nan\n",
    "print(a == b)\n",
    "print(a is b)"
   ]
  },
  {
   "cell_type": "code",
   "execution_count": 139,
   "id": "49ba782c-9ae4-44e3-bff0-ae8561df8a3b",
   "metadata": {},
   "outputs": [
    {
     "name": "stdout",
     "output_type": "stream",
     "text": [
      "['Alice' 'Bob' None]\n",
      "object\n"
     ]
    }
   ],
   "source": [
    "ar_5 = np.array([\"Alice\", \"Bob\", None])\n",
    "print(ar_5)\n",
    "print(ar_5.dtype)"
   ]
  },
  {
   "cell_type": "code",
   "execution_count": 145,
   "id": "f6a0bb55-b98c-4a3b-bd1d-639aacee125a",
   "metadata": {},
   "outputs": [],
   "source": [
    "ar_6 = np.array([1, 2, 3, None])\n",
    "# print(np.sum(ar_6))     #Error\n",
    "# print(np.nansum(ar_6))\t#Error"
   ]
  },
  {
   "cell_type": "code",
   "execution_count": 147,
   "id": "631824a6-4409-424a-b7cc-48cb68407271",
   "metadata": {},
   "outputs": [
    {
     "name": "stdout",
     "output_type": "stream",
     "text": [
      "True\n",
      "True\n"
     ]
    }
   ],
   "source": [
    "a = None\n",
    "b = None\n",
    "print(a == b)\t#True\n",
    "print(a is b)\t#True"
   ]
  },
  {
   "cell_type": "code",
   "execution_count": null,
   "id": "9c362722-d209-4f42-b0f2-d8b1c1f843d2",
   "metadata": {},
   "outputs": [],
   "source": []
  }
 ],
 "metadata": {
  "kernelspec": {
   "display_name": "Python 3 (ipykernel)",
   "language": "python",
   "name": "python3"
  },
  "language_info": {
   "codemirror_mode": {
    "name": "ipython",
    "version": 3
   },
   "file_extension": ".py",
   "mimetype": "text/x-python",
   "name": "python",
   "nbconvert_exporter": "python",
   "pygments_lexer": "ipython3",
   "version": "3.12.4"
  }
 },
 "nbformat": 4,
 "nbformat_minor": 5
}
