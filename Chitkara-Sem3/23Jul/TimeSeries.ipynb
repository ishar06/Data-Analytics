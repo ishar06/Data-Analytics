{
 "cells": [
  {
   "cell_type": "code",
   "execution_count": 2,
   "id": "7e9ab2cc-2178-4f97-a32e-e4a311811940",
   "metadata": {},
   "outputs": [],
   "source": [
    "import numpy as np\n",
    "import pandas as pd"
   ]
  },
  {
   "cell_type": "code",
   "execution_count": 12,
   "id": "537305ed-0ba4-4ad9-a44d-f61a45940117",
   "metadata": {},
   "outputs": [
    {
     "name": "stdout",
     "output_type": "stream",
     "text": [
      "0       4\n",
      "1    <NA>\n",
      "2       2\n",
      "dtype: Int64\n"
     ]
    }
   ],
   "source": [
    "s1 = pd.Series([\"agartala\", None, \"bathinda\"], dtype=\"string\")\n",
    "print(s1.str.count(\"a\"))\n"
   ]
  },
  {
   "cell_type": "code",
   "execution_count": 14,
   "id": "14a94745-165c-4f1e-816b-e7f575c2e59f",
   "metadata": {},
   "outputs": [
    {
     "name": "stdout",
     "output_type": "stream",
     "text": [
      "0    4\n",
      "2    2\n",
      "dtype: Int64\n"
     ]
    }
   ],
   "source": [
    "print(s1.dropna().str.count(\"a\"))"
   ]
  },
  {
   "cell_type": "code",
   "execution_count": 22,
   "id": "01958e69-270e-4c50-bda1-5d07b79be238",
   "metadata": {},
   "outputs": [
    {
     "name": "stdout",
     "output_type": "stream",
     "text": [
      "2023-10-15 08:30:00\n"
     ]
    }
   ],
   "source": [
    "print(pd.Timestamp(\"2023-10-15 08:30:00\"))"
   ]
  },
  {
   "cell_type": "code",
   "execution_count": 24,
   "id": "68c978c3-7162-4a83-bb67-6496d8d4b2c5",
   "metadata": {},
   "outputs": [
    {
     "name": "stdout",
     "output_type": "stream",
     "text": [
      "2023-10\n"
     ]
    }
   ],
   "source": [
    "# PERIOD\n",
    "print(pd.Period(\"2023-10\", freq='M'))  # 'M' for month  "
   ]
  },
  {
   "cell_type": "code",
   "execution_count": 26,
   "id": "0c6058cf-0633-475d-a8e3-b9b557206e16",
   "metadata": {},
   "outputs": [
    {
     "name": "stdout",
     "output_type": "stream",
     "text": [
      "DatetimeIndex(['2023-01-01', '2023-01-02', '2023-01-03'], dtype='datetime64[ns]', freq='D')\n"
     ]
    }
   ],
   "source": [
    "# DATE RANGE\n",
    "print(pd.date_range(start=\"2023-01-01\", periods=3, freq='D'))"
   ]
  },
  {
   "cell_type": "code",
   "execution_count": 32,
   "id": "e26cdfb1-33ce-431d-99d2-3b5090b89cff",
   "metadata": {},
   "outputs": [
    {
     "name": "stdout",
     "output_type": "stream",
     "text": [
      "        Date  Temperature\n",
      "0 2023-10-01           22\n",
      "1 2023-10-02           24\n",
      "2 2023-10-03           19\n"
     ]
    }
   ],
   "source": [
    "dates = pd.date_range(\"2023-10-01\", periods=3, freq='D')\n",
    "temps = [22, 24, 19]\n",
    "dFrame1 = pd.DataFrame({\"Date\": dates, \"Temperature\": temps})\n",
    "print(dFrame1)"
   ]
  },
  {
   "cell_type": "code",
   "execution_count": 35,
   "id": "788784f0-b9c7-40c4-bf6a-547c60fdd840",
   "metadata": {},
   "outputs": [
    {
     "name": "stdout",
     "output_type": "stream",
     "text": [
      "            Temperature\n",
      "Date                   \n",
      "2023-10-01           22\n",
      "2023-10-02           24\n",
      "2023-10-03           19\n"
     ]
    }
   ],
   "source": [
    "dFrame1 = dFrame1.set_index(\"Date\") \n",
    "print(dFrame1)"
   ]
  },
  {
   "cell_type": "code",
   "execution_count": 59,
   "id": "11d1e3ef-94a1-4660-b101-d5100966a3cb",
   "metadata": {},
   "outputs": [
    {
     "name": "stdout",
     "output_type": "stream",
     "text": [
      "            Temperature  Yesterday\n",
      "Date                              \n",
      "2023-10-01           22        NaN\n",
      "2023-10-02           24       22.0\n",
      "2023-10-03           19       24.0\n",
      "\n",
      "            Temperature  Yesterday\n",
      "Date                              \n",
      "2023-10-01           22        NaN\n",
      "2023-10-02           24       22.0\n",
      "2023-10-03           19       24.0\n",
      "\n",
      "\n",
      "            Temperature  Yesterday\n",
      "Date                              \n",
      "2023-10-01           22        NaN\n",
      "2023-10-02           24       22.0\n",
      "\n",
      "\n",
      "Date\n",
      "2023-10-31    21.666667\n",
      "Freq: ME, Name: Temperature, dtype: float64\n",
      "\n",
      "\n",
      "            Temperature  Yesterday  Hour  DayOfWeek\n",
      "Date                                               \n",
      "2023-10-01           22        NaN     0          6\n",
      "2023-10-02           24       22.0     0          0\n",
      "2023-10-03           19       24.0     0          1\n",
      "\n",
      "\n"
     ]
    }
   ],
   "source": [
    "dates = pd.date_range(\"2023-10-01\", periods=3, freq='D')\n",
    "temps = [22, 24, 19]\n",
    "dFrame1 = pd.DataFrame({\"Date\": dates, \"Temperature\": temps})\n",
    "dFrame1 = dFrame1.set_index(\"Date\") \n",
    "dFrame1[\"Yesterday\"] = dFrame1[\"Temperature\"].shift(1)\n",
    "print(dFrame1)\n",
    "print()\n",
    "\n",
    "oct_data = dFrame1.loc[\"2023-10\"]  \n",
    "print(oct_data)\n",
    "print()\n",
    "print()\n",
    "\n",
    "date_range = dFrame1.loc[\"2023-10-01\":\"2023-10-02\"]\n",
    "print(date_range)\n",
    "print()\n",
    "print()\n",
    "\n",
    "monthly_avg = dFrame1.resample(\"ME\").mean()\n",
    "print(monthly_avg[\"Temperature\"])\n",
    "print()\n",
    "print()\n",
    "\n",
    "dFrame1[\"Hour\"] = dFrame1.index.hour      # Extract hour  \n",
    "dFrame1[\"DayOfWeek\"] = dFrame1.index.dayofweek  # Monday=0, Sunday=6 \n",
    "print(dFrame1)\n",
    "print()\n",
    "print()\n"
   ]
  },
  {
   "cell_type": "code",
   "execution_count": 61,
   "id": "78289fa4-df13-417c-a9e6-566f5902de83",
   "metadata": {},
   "outputs": [
    {
     "name": "stdout",
     "output_type": "stream",
     "text": [
      "0   2023-10-01\n",
      "1          NaT\n",
      "2   2023-10-03\n",
      "dtype: datetime64[ns]\n"
     ]
    }
   ],
   "source": [
    "dates = pd.Series([pd.Timestamp(\"2023-10-01\"), None, pd.Timestamp(\"2023-10-03\")])\n",
    "print(dates)"
   ]
  },
  {
   "cell_type": "code",
   "execution_count": 63,
   "id": "4e452d64-cf95-43da-8f7a-b37a882c34f8",
   "metadata": {},
   "outputs": [
    {
     "name": "stdout",
     "output_type": "stream",
     "text": [
      "2 days 03:30:00\n"
     ]
    }
   ],
   "source": [
    "print(pd.Timedelta(\"2 days 3 hours 30 minutes\"))"
   ]
  },
  {
   "cell_type": "code",
   "execution_count": 65,
   "id": "1ed95c51-dbf7-4014-938c-5eea74f3f9a5",
   "metadata": {},
   "outputs": [
    {
     "name": "stdout",
     "output_type": "stream",
     "text": [
      "1 days 12:00:00\n",
      "7 days 05:00:00\n"
     ]
    }
   ],
   "source": [
    "print(pd.Timedelta(days=1.5))\n",
    "print(pd.Timedelta(weeks=1, hours=5))"
   ]
  },
  {
   "cell_type": "code",
   "execution_count": 67,
   "id": "43e52177-95bb-466e-b81e-968cc85ad855",
   "metadata": {},
   "outputs": [
    {
     "name": "stdout",
     "output_type": "stream",
     "text": [
      "1 days 02:10:00\n"
     ]
    }
   ],
   "source": [
    "print(pd.Timedelta(\"P1DT2H10M\"))"
   ]
  },
  {
   "cell_type": "code",
   "execution_count": 70,
   "id": "71ec0843-80a9-4584-9671-714f8b67cb6f",
   "metadata": {},
   "outputs": [
    {
     "name": "stdout",
     "output_type": "stream",
     "text": [
      "<class 'pandas._libs.tslibs.nattype.NaTType'>\n",
      "<class 'numpy.datetime64'>\n"
     ]
    }
   ],
   "source": [
    "print(type(pd.NaT))\n",
    "print(type(np.datetime64('NaT')))"
   ]
  },
  {
   "cell_type": "code",
   "execution_count": null,
   "id": "591db3a1-262d-4bd1-a3d2-082d7ed92258",
   "metadata": {},
   "outputs": [],
   "source": []
  }
 ],
 "metadata": {
  "kernelspec": {
   "display_name": "Python 3 (ipykernel)",
   "language": "python",
   "name": "python3"
  },
  "language_info": {
   "codemirror_mode": {
    "name": "ipython",
    "version": 3
   },
   "file_extension": ".py",
   "mimetype": "text/x-python",
   "name": "python",
   "nbconvert_exporter": "python",
   "pygments_lexer": "ipython3",
   "version": "3.12.4"
  }
 },
 "nbformat": 4,
 "nbformat_minor": 5
}
