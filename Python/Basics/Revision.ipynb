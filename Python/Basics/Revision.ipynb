{
 "cells": [
  {
   "cell_type": "code",
   "execution_count": 10,
   "id": "47863dda-26c0-499d-9038-85397835a74d",
   "metadata": {},
   "outputs": [
    {
     "name": "stdout",
     "output_type": "stream",
     "text": [
      "True\n",
      "True\n"
     ]
    }
   ],
   "source": [
    "a = 10\n",
    "b = 10\n",
    "print(a == b)\n",
    "print(a is b)\n"
   ]
  },
  {
   "cell_type": "code",
   "execution_count": 14,
   "id": "876b90af-6983-40a8-b9cf-949a8a92e52a",
   "metadata": {},
   "outputs": [
    {
     "name": "stdout",
     "output_type": "stream",
     "text": [
      "[0, 1, 2, 3, 4, 5, 6, 7, 8, 9]\n"
     ]
    }
   ],
   "source": [
    "l1 = [i for i in range(10)]\n",
    "print(l1)"
   ]
  },
  {
   "cell_type": "code",
   "execution_count": 18,
   "id": "3d6ba5dc-6472-4556-b087-d7dd17ed885e",
   "metadata": {},
   "outputs": [
    {
     "name": "stdout",
     "output_type": "stream",
     "text": [
      "[1, 3, 5, 7, 9]\n"
     ]
    }
   ],
   "source": [
    "l1 = [i for i in range(10)]\n",
    "l2 = list(filter(lambda x: x % 2 == 1, l1))\n",
    "print(l2)"
   ]
  },
  {
   "cell_type": "code",
   "execution_count": 20,
   "id": "bb4e516a-d6aa-4c73-b2a9-b013c157f777",
   "metadata": {},
   "outputs": [
    {
     "name": "stdout",
     "output_type": "stream",
     "text": [
      "[1, 9, 25, 49, 81]\n"
     ]
    }
   ],
   "source": [
    "l3 = list(map(lambda x: x ** 2, l2))\n",
    "print(l3)\n"
   ]
  },
  {
   "cell_type": "code",
   "execution_count": 30,
   "id": "c6df3124-db5b-4731-bc91-d13282c49521",
   "metadata": {},
   "outputs": [
    {
     "name": "stdout",
     "output_type": "stream",
     "text": [
      "[10. 20. 30. 40. 50.]\n"
     ]
    }
   ],
   "source": [
    "import numpy as np\n",
    "arr = np.array([10, 20, 30, 40, 50], dtype = float)\n",
    "print(arr)\n"
   ]
  },
  {
   "cell_type": "code",
   "execution_count": 32,
   "id": "a43b4db7-f0d0-4d29-a757-9a61a020ee86",
   "metadata": {},
   "outputs": [
    {
     "name": "stdout",
     "output_type": "stream",
     "text": [
      "[[ 10  20]\n",
      " [100  90]]\n"
     ]
    }
   ],
   "source": [
    "arr2 = np.array([[10, 20], [100, 90]])\n",
    "print(arr2)"
   ]
  },
  {
   "cell_type": "code",
   "execution_count": 36,
   "id": "88226d20-2493-412a-ab16-43aca9851030",
   "metadata": {},
   "outputs": [
    {
     "name": "stdout",
     "output_type": "stream",
     "text": [
      "[[0. 0. 0. 0.]\n",
      " [0. 0. 0. 0.]\n",
      " [0. 0. 0. 0.]]\n"
     ]
    }
   ],
   "source": [
    "arr_0= np.zeros((3,4))\n",
    "print(arr_0)"
   ]
  },
  {
   "cell_type": "code",
   "execution_count": 38,
   "id": "df1a4a27-a392-4b46-8be5-4bfca39f9063",
   "metadata": {},
   "outputs": [
    {
     "name": "stdout",
     "output_type": "stream",
     "text": [
      "[[1. 1. 1.]\n",
      " [1. 1. 1.]]\n"
     ]
    }
   ],
   "source": [
    "arr_ones = np.ones((2,3))\n",
    "print(arr_ones)"
   ]
  },
  {
   "cell_type": "code",
   "execution_count": 40,
   "id": "1175f754-8505-4065-83a9-c1b38ef464a9",
   "metadata": {},
   "outputs": [
    {
     "name": "stdout",
     "output_type": "stream",
     "text": [
      "[ 2  5  8 11 14]\n"
     ]
    }
   ],
   "source": [
    "arr = np.arange(2, 15, 3)\n",
    "print(arr)"
   ]
  },
  {
   "cell_type": "code",
   "execution_count": 42,
   "id": "3df452d5-42d2-44ee-8be1-f776b7b25c37",
   "metadata": {},
   "outputs": [
    {
     "name": "stdout",
     "output_type": "stream",
     "text": [
      "[[21 19 17 15 13 11]\n",
      " [10  8  6  4  2  0]\n",
      " [ 0  0  0  0  0  0]]\n",
      "ar_12[0, 0] = 21\n",
      "ar_12[-1,- 2] = 0\n",
      "ar_12[0, 0:6:2] = [21 17 13]\n",
      "ar_12[1:2, 5:0:-2] = [[0 4 8]]\n",
      "ar_12[-2::-1, -3:-1] = [[ 4  2]\n",
      " [15 13]]\n"
     ]
    }
   ],
   "source": [
    "ar_12 = np.array([np.arange(21, 10, -2), np.arange(10, -1, -2), np.zeros(6, dtype = np.int64)])\n",
    "print(ar_12)\n",
    "print(\"ar_12[0, 0] =\",ar_12[0, 0]) # 21\n",
    "print(\"ar_12[-1,- 2] =\",ar_12[-1,- 2]) # 0\n",
    "print(\"ar_12[0, 0:6:2] =\",ar_12[0, 0:6:2]) #[21 17 13]\n",
    "print(\"ar_12[1:2, 5:0:-2] =\",ar_12[1:2, 5:0:-2]) #[[0 4 8]]\n",
    "print(\"ar_12[-2::-1, -3:-1] =\",ar_12[-2::-1, -3:-1]) #[[ 4  2] [15 13]]"
   ]
  },
  {
   "cell_type": "code",
   "execution_count": 44,
   "id": "87327105-4922-4647-8f23-31af78f0a97b",
   "metadata": {},
   "outputs": [
    {
     "name": "stdout",
     "output_type": "stream",
     "text": [
      "[[21 19 17 15 13 11]\n",
      " [10  8  6  4  2  0]\n",
      " [ 0  0  0  0  0  0]]\n"
     ]
    }
   ],
   "source": [
    "arr = np.array([np.arange(21,10,-2), np.arange(10,-1,-2), np.zeros(6, dtype = np.int64)])\n",
    "print(arr)"
   ]
  },
  {
   "cell_type": "code",
   "execution_count": 50,
   "id": "ebddf4dd-73ef-45c4-834b-5dafc1fdad0a",
   "metadata": {},
   "outputs": [
    {
     "name": "stdout",
     "output_type": "stream",
     "text": [
      "[[ 4  2]\n",
      " [15 13]]\n"
     ]
    }
   ],
   "source": [
    "print(arr[-2::-1, -3:-1])"
   ]
  },
  {
   "cell_type": "code",
   "execution_count": null,
   "id": "256b3576-5b54-4934-a6d1-bcbbcebaca03",
   "metadata": {},
   "outputs": [],
   "source": []
  }
 ],
 "metadata": {
  "kernelspec": {
   "display_name": "Python 3 (ipykernel)",
   "language": "python",
   "name": "python3"
  },
  "language_info": {
   "codemirror_mode": {
    "name": "ipython",
    "version": 3
   },
   "file_extension": ".py",
   "mimetype": "text/x-python",
   "name": "python",
   "nbconvert_exporter": "python",
   "pygments_lexer": "ipython3",
   "version": "3.12.4"
  }
 },
 "nbformat": 4,
 "nbformat_minor": 5
}
